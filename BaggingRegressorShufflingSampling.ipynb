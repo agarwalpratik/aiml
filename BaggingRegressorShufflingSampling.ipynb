{
  "nbformat": 4,
  "nbformat_minor": 0,
  "metadata": {
    "colab": {
      "provenance": [],
      "authorship_tag": "ABX9TyNGaIQAGOKtGK72ZA7Z26vT",
      "include_colab_link": true
    },
    "kernelspec": {
      "name": "python3",
      "display_name": "Python 3"
    },
    "language_info": {
      "name": "python"
    }
  },
  "cells": [
    {
      "cell_type": "markdown",
      "metadata": {
        "id": "view-in-github",
        "colab_type": "text"
      },
      "source": [
        "<a href=\"https://colab.research.google.com/github/agarwalpratik/aiml/blob/main/BaggingRegressorShufflingSampling.ipynb\" target=\"_parent\"><img src=\"https://colab.research.google.com/assets/colab-badge.svg\" alt=\"Open In Colab\"/></a>"
      ]
    },
    {
      "cell_type": "code",
      "execution_count": null,
      "metadata": {
        "id": "z_W_USXJSEer"
      },
      "outputs": [],
      "source": []
    },
    {
      "cell_type": "code",
      "execution_count": 1,
      "metadata": {
        "id": "g8LXVmzA1pL6"
      },
      "outputs": [],
      "source": [
        "import pandas as pd\n",
        "import numpy as np"
      ]
    },
    {
      "cell_type": "code",
      "source": [
        "data = pd.read_csv(\"50_Startups.csv\")"
      ],
      "metadata": {
        "id": "q2VkLLSr1xar"
      },
      "execution_count": 2,
      "outputs": []
    },
    {
      "cell_type": "code",
      "source": [
        "data.info()"
      ],
      "metadata": {
        "colab": {
          "base_uri": "https://localhost:8080/"
        },
        "id": "HX-U_iuM11sA",
        "outputId": "a105b0e5-7b0f-4ba1-ea92-37d8cfa19078"
      },
      "execution_count": 3,
      "outputs": [
        {
          "output_type": "stream",
          "name": "stdout",
          "text": [
            "<class 'pandas.core.frame.DataFrame'>\n",
            "RangeIndex: 50 entries, 0 to 49\n",
            "Data columns (total 5 columns):\n",
            " #   Column           Non-Null Count  Dtype  \n",
            "---  ------           --------------  -----  \n",
            " 0   R&D Spend        50 non-null     float64\n",
            " 1   Administration   50 non-null     float64\n",
            " 2   Marketing Spend  50 non-null     float64\n",
            " 3   State            50 non-null     object \n",
            " 4   Profit           50 non-null     float64\n",
            "dtypes: float64(4), object(1)\n",
            "memory usage: 2.1+ KB\n"
          ]
        }
      ]
    },
    {
      "cell_type": "code",
      "source": [
        "features = data.iloc[:,[0,1,2,3]].values\n",
        "label = data.iloc[:,4].values"
      ],
      "metadata": {
        "id": "OOUX9dQk12qW"
      },
      "execution_count": 7,
      "outputs": []
    },
    {
      "cell_type": "code",
      "source": [],
      "metadata": {
        "id": "bQWyPCYGXRuh"
      },
      "execution_count": null,
      "outputs": []
    },
    {
      "cell_type": "code",
      "source": [
        "from sklearn.preprocessing import OneHotEncoder\n",
        "oheForstate = OneHotEncoder(sparse_output=False)\n",
        "oheForstate.fit(features[:,[3]])\n",
        "dummyVariables = oheForstate.transform(features[:,[3]]).astype(int)"
      ],
      "metadata": {
        "id": "bH5U9PQH9BD0"
      },
      "execution_count": 9,
      "outputs": []
    },
    {
      "cell_type": "code",
      "source": [
        "finalFeatureSet = np.concatenate([dummyVariables,features[:,[0,1,2]]] , axis = 1)\n",
        "finalFeatureSet"
      ],
      "metadata": {
        "colab": {
          "base_uri": "https://localhost:8080/"
        },
        "id": "6EkxW9i-XrdA",
        "outputId": "58088d6e-8805-411c-d61e-36124e4cd45c"
      },
      "execution_count": 10,
      "outputs": [
        {
          "output_type": "execute_result",
          "data": {
            "text/plain": [
              "array([[0, 0, 1, 165349.2, 136897.8, 471784.1],\n",
              "       [1, 0, 0, 162597.7, 151377.59, 443898.53],\n",
              "       [0, 1, 0, 153441.51, 101145.55, 407934.54],\n",
              "       [0, 0, 1, 144372.41, 118671.85, 383199.62],\n",
              "       [0, 1, 0, 142107.34, 91391.77, 366168.42],\n",
              "       [0, 0, 1, 131876.9, 99814.71, 362861.36],\n",
              "       [1, 0, 0, 134615.46, 147198.87, 127716.82],\n",
              "       [0, 1, 0, 130298.13, 145530.06, 323876.68],\n",
              "       [0, 0, 1, 120542.52, 148718.95, 311613.29],\n",
              "       [1, 0, 0, 123334.88, 108679.17, 304981.62],\n",
              "       [0, 1, 0, 101913.08, 110594.11, 229160.95],\n",
              "       [1, 0, 0, 100671.96, 91790.61, 249744.55],\n",
              "       [0, 1, 0, 93863.75, 127320.38, 249839.44],\n",
              "       [1, 0, 0, 91992.39, 135495.07, 252664.93],\n",
              "       [0, 1, 0, 119943.24, 156547.42, 256512.92],\n",
              "       [0, 0, 1, 114523.61, 122616.84, 261776.23],\n",
              "       [1, 0, 0, 78013.11, 121597.55, 264346.06],\n",
              "       [0, 0, 1, 94657.16, 145077.58, 282574.31],\n",
              "       [0, 1, 0, 91749.16, 114175.79, 294919.57],\n",
              "       [0, 0, 1, 86419.7, 153514.11, 0.0],\n",
              "       [1, 0, 0, 76253.86, 113867.3, 298664.47],\n",
              "       [0, 0, 1, 78389.47, 153773.43, 299737.29],\n",
              "       [0, 1, 0, 73994.56, 122782.75, 303319.26],\n",
              "       [0, 1, 0, 67532.53, 105751.03, 304768.73],\n",
              "       [0, 0, 1, 77044.01, 99281.34, 140574.81],\n",
              "       [1, 0, 0, 64664.71, 139553.16, 137962.62],\n",
              "       [0, 1, 0, 75328.87, 144135.98, 134050.07],\n",
              "       [0, 0, 1, 72107.6, 127864.55, 353183.81],\n",
              "       [0, 1, 0, 66051.52, 182645.56, 118148.2],\n",
              "       [0, 0, 1, 65605.48, 153032.06, 107138.38],\n",
              "       [0, 1, 0, 61994.48, 115641.28, 91131.24],\n",
              "       [0, 0, 1, 61136.38, 152701.92, 88218.23],\n",
              "       [1, 0, 0, 63408.86, 129219.61, 46085.25],\n",
              "       [0, 1, 0, 55493.95, 103057.49, 214634.81],\n",
              "       [1, 0, 0, 46426.07, 157693.92, 210797.67],\n",
              "       [0, 0, 1, 46014.02, 85047.44, 205517.64],\n",
              "       [0, 1, 0, 28663.76, 127056.21, 201126.82],\n",
              "       [1, 0, 0, 44069.95, 51283.14, 197029.42],\n",
              "       [0, 0, 1, 20229.59, 65947.93, 185265.1],\n",
              "       [1, 0, 0, 38558.51, 82982.09, 174999.3],\n",
              "       [1, 0, 0, 28754.33, 118546.05, 172795.67],\n",
              "       [0, 1, 0, 27892.92, 84710.77, 164470.71],\n",
              "       [1, 0, 0, 23640.93, 96189.63, 148001.11],\n",
              "       [0, 0, 1, 15505.73, 127382.3, 35534.17],\n",
              "       [1, 0, 0, 22177.74, 154806.14, 28334.72],\n",
              "       [0, 0, 1, 1000.23, 124153.04, 1903.93],\n",
              "       [0, 1, 0, 1315.46, 115816.21, 297114.46],\n",
              "       [1, 0, 0, 0.0, 135426.92, 0.0],\n",
              "       [0, 0, 1, 542.05, 51743.15, 0.0],\n",
              "       [1, 0, 0, 0.0, 116983.8, 45173.06]], dtype=object)"
            ]
          },
          "metadata": {},
          "execution_count": 10
        }
      ]
    },
    {
      "cell_type": "markdown",
      "source": [
        "**Shuffling**"
      ],
      "metadata": {
        "id": "Fo4lnXrlZJWZ"
      }
    },
    {
      "cell_type": "code",
      "source": [
        "from sklearn.model_selection import train_test_split\n",
        "from sklearn.ensemble import BaggingRegressor\n",
        "from sklearn.linear_model import LinearRegression\n",
        "from sklearn.tree import DecisionTreeRegressor\n",
        "from sklearn.neighbors import KNeighborsRegressor\n",
        "\n",
        "for rs in range(1,10):\n",
        "\n",
        "  sampleSize = int(round(np.sqrt(len(X_train))))\n",
        "  X_train,X_test,y_train,y_test = train_test_split(finalFeatureSet,\n",
        "                                                 label,\n",
        "                                                 test_size=0.2,\n",
        "                                                 random_state=rs)\n",
        "\n",
        "  for algo in (LinearRegression(),DecisionTreeRegressor(),KNeighborsRegressor()):\n",
        "    for rst in range(1,50):\n",
        "      ensembleModel = BaggingRegressor(n_estimators=15, estimator=algo, random_state=rst)\n",
        "      ensembleModel.fit(X_train,y_train)\n",
        "      testScore = ensembleModel.score(X_test,y_test)\n",
        "      trainScore = ensembleModel.score(X_train,y_train)\n",
        "      if testScore > trainScore and testScore > 0.98:\n",
        "        print(f\"Training Score is {trainScore} and Testing Score is {testScore} and rs is {rs} with algo {algo}\")\n",
        ""
      ],
      "metadata": {
        "id": "zPL2tgIq18rZ",
        "colab": {
          "base_uri": "https://localhost:8080/"
        },
        "outputId": "b5bdfdfa-0bde-49dc-bdc9-9aeb15859858"
      },
      "execution_count": 15,
      "outputs": [
        {
          "output_type": "stream",
          "name": "stdout",
          "text": [
            "Training Score is 0.9389417665324691 and Testing Score is 0.9805937373499237 and rs is 2 with algo LinearRegression()\n",
            "Training Score is 0.9389545269158323 and Testing Score is 0.9812833124067158 and rs is 2 with algo LinearRegression()\n",
            "Training Score is 0.9389845873373266 and Testing Score is 0.980226591913687 and rs is 2 with algo LinearRegression()\n",
            "Training Score is 0.9703777372364849 and Testing Score is 0.9800570713976241 and rs is 2 with algo DecisionTreeRegressor()\n"
          ]
        }
      ]
    },
    {
      "cell_type": "markdown",
      "source": [
        "Sampling with Replacement"
      ],
      "metadata": {
        "id": "kr7uicbIZPu-"
      }
    },
    {
      "cell_type": "code",
      "source": [
        "import warnings\n",
        "from sklearn.ensemble import BaggingRegressor\n",
        "from sklearn.linear_model import LinearRegression\n",
        "from sklearn.tree import DecisionTreeRegressor\n",
        "from sklearn.neighbors import KNeighborsRegressor\n",
        "\n",
        "for rs in range(1,10):\n",
        "\n",
        "  sampleSize = int(round(np.sqrt(len(X_train))))\n",
        "  X_train,X_test,y_train,y_test = train_test_split(finalFeatureSet,\n",
        "                                                 label,\n",
        "                                                 test_size=0.2,\n",
        "                                                 random_state=rs)\n",
        "\n",
        "  sampleSize = int(round(np.sqrt(len(X_train))))\n",
        "\n",
        "  for algo in (LinearRegression(),DecisionTreeRegressor(),KNeighborsRegressor()):\n",
        "    for rst in range(1,50):\n",
        "      ensembleModel = BaggingRegressor(n_estimators=15, estimator=algo, max_samples=sampleSize, bootstrap=True, random_state=rst)\n",
        "      ensembleModel.fit(X_train,y_train)\n",
        "      testScore = ensembleModel.score(X_test,y_test)\n",
        "      trainScore = ensembleModel.score(X_train,y_train)\n",
        "      if testScore > trainScore and testScore > 0.90:\n",
        "        print(f\"Training Score is {trainScore} and Testing Score is {testScore} and rs is {rs} and algo {algo}\")"
      ],
      "metadata": {
        "colab": {
          "base_uri": "https://localhost:8080/"
        },
        "id": "3QWmhxHHZXKJ",
        "outputId": "3228fc29-ab64-4111-8b7b-b73f95bceb15"
      },
      "execution_count": 19,
      "outputs": [
        {
          "output_type": "stream",
          "name": "stdout",
          "text": [
            "Training Score is 0.8789970234046653 and Testing Score is 0.9109348092239177 and rs is 1 and algo LinearRegression()\n",
            "Training Score is 0.9035728839152978 and Testing Score is 0.9550246352002683 and rs is 1 and algo LinearRegression()\n",
            "Training Score is 0.8538676177352711 and Testing Score is 0.9188133965582402 and rs is 1 and algo LinearRegression()\n",
            "Training Score is 0.9164776883814478 and Testing Score is 0.9225152313260692 and rs is 1 and algo LinearRegression()\n",
            "Training Score is 0.9246633123946688 and Testing Score is 0.9315611339083301 and rs is 1 and algo LinearRegression()\n",
            "Training Score is 0.8520639316638139 and Testing Score is 0.93922908766859 and rs is 1 and algo LinearRegression()\n",
            "Training Score is 0.8611335942102292 and Testing Score is 0.9286245076731208 and rs is 1 and algo LinearRegression()\n",
            "Training Score is 0.9001072678134334 and Testing Score is 0.9300737841549318 and rs is 1 and algo LinearRegression()\n",
            "Training Score is 0.9067580677972775 and Testing Score is 0.907416517629739 and rs is 1 and algo LinearRegression()\n",
            "Training Score is 0.7888754202982529 and Testing Score is 0.9131681986750673 and rs is 2 and algo LinearRegression()\n",
            "Training Score is 0.9142723144680581 and Testing Score is 0.9475968949650013 and rs is 2 and algo LinearRegression()\n",
            "Training Score is 0.910602310214483 and Testing Score is 0.9291377075725475 and rs is 2 and algo LinearRegression()\n",
            "Training Score is 0.8865506437438853 and Testing Score is 0.9377194597761181 and rs is 2 and algo LinearRegression()\n",
            "Training Score is 0.8683554993445787 and Testing Score is 0.9396484849180865 and rs is 2 and algo LinearRegression()\n",
            "Training Score is 0.90692064150492 and Testing Score is 0.9209650035804056 and rs is 2 and algo LinearRegression()\n",
            "Training Score is 0.9100720539767188 and Testing Score is 0.9544376854107858 and rs is 2 and algo LinearRegression()\n",
            "Training Score is 0.8770390789333378 and Testing Score is 0.9392876392696726 and rs is 2 and algo LinearRegression()\n",
            "Training Score is 0.8621783458029774 and Testing Score is 0.9296859277033929 and rs is 2 and algo LinearRegression()\n",
            "Training Score is 0.9233549900955119 and Testing Score is 0.9577515862852071 and rs is 2 and algo LinearRegression()\n",
            "Training Score is 0.9194867400739862 and Testing Score is 0.9578377374493293 and rs is 2 and algo LinearRegression()\n",
            "Training Score is 0.8782413773144355 and Testing Score is 0.9016261607622024 and rs is 2 and algo LinearRegression()\n",
            "Training Score is 0.8933698076055798 and Testing Score is 0.9356293808565583 and rs is 2 and algo LinearRegression()\n",
            "Training Score is 0.8976730813435451 and Testing Score is 0.9720411782284412 and rs is 2 and algo LinearRegression()\n",
            "Training Score is 0.9046985301897865 and Testing Score is 0.9407075060432891 and rs is 2 and algo LinearRegression()\n",
            "Training Score is 0.8852293629657789 and Testing Score is 0.9196888895684303 and rs is 2 and algo LinearRegression()\n",
            "Training Score is 0.8545309676966902 and Testing Score is 0.9102786826696357 and rs is 3 and algo LinearRegression()\n",
            "Training Score is 0.9344674511544859 and Testing Score is 0.9558171397383721 and rs is 3 and algo LinearRegression()\n",
            "Training Score is 0.9342867455535093 and Testing Score is 0.9459319859390309 and rs is 3 and algo LinearRegression()\n",
            "Training Score is 0.9152668627827425 and Testing Score is 0.9179750135137206 and rs is 3 and algo LinearRegression()\n",
            "Training Score is 0.9187130556437788 and Testing Score is 0.938952215278071 and rs is 3 and algo LinearRegression()\n",
            "Training Score is 0.867154714440467 and Testing Score is 0.9233446526252262 and rs is 3 and algo LinearRegression()\n",
            "Training Score is 0.9301049122505087 and Testing Score is 0.9321232123263248 and rs is 3 and algo LinearRegression()\n",
            "Training Score is 0.9189293985280059 and Testing Score is 0.9496988301722167 and rs is 3 and algo LinearRegression()\n",
            "Training Score is 0.8088031303620407 and Testing Score is 0.9042683781333298 and rs is 3 and algo LinearRegression()\n",
            "Training Score is 0.9193135235216422 and Testing Score is 0.9491736008264325 and rs is 4 and algo LinearRegression()\n",
            "Training Score is 0.9368937569044848 and Testing Score is 0.9557743402914181 and rs is 4 and algo LinearRegression()\n",
            "Training Score is 0.873127370849587 and Testing Score is 0.918356070668607 and rs is 4 and algo LinearRegression()\n",
            "Training Score is 0.9067664599892502 and Testing Score is 0.9384189121032357 and rs is 4 and algo LinearRegression()\n",
            "Training Score is 0.9169291307141028 and Testing Score is 0.9311307617975688 and rs is 4 and algo LinearRegression()\n",
            "Training Score is 0.902584843199184 and Testing Score is 0.9506440171502297 and rs is 4 and algo LinearRegression()\n",
            "Training Score is 0.9231178612494322 and Testing Score is 0.9429587911624996 and rs is 5 and algo LinearRegression()\n",
            "Training Score is 0.9312384600416541 and Testing Score is 0.9556586517385278 and rs is 5 and algo LinearRegression()\n",
            "Training Score is 0.906887161467552 and Testing Score is 0.9071396106051136 and rs is 5 and algo LinearRegression()\n",
            "Training Score is 0.9353925225995141 and Testing Score is 0.9492584311573282 and rs is 5 and algo LinearRegression()\n",
            "Training Score is 0.9336165764262302 and Testing Score is 0.9565312952503323 and rs is 5 and algo LinearRegression()\n",
            "Training Score is 0.8881548270230688 and Testing Score is 0.9279855562440295 and rs is 5 and algo LinearRegression()\n",
            "Training Score is 0.9025554671914415 and Testing Score is 0.9378137092106966 and rs is 5 and algo LinearRegression()\n",
            "Training Score is 0.9287413656746905 and Testing Score is 0.9480791052176168 and rs is 5 and algo LinearRegression()\n",
            "Training Score is 0.9270625032178327 and Testing Score is 0.9672915511982195 and rs is 5 and algo LinearRegression()\n",
            "Training Score is 0.8662727845650915 and Testing Score is 0.9381665914832726 and rs is 5 and algo LinearRegression()\n",
            "Training Score is 0.9330504029937468 and Testing Score is 0.9665333597942107 and rs is 5 and algo LinearRegression()\n",
            "Training Score is 0.8959052274363267 and Testing Score is 0.924357585931712 and rs is 5 and algo LinearRegression()\n",
            "Training Score is 0.9411976813635337 and Testing Score is 0.9713661924710738 and rs is 5 and algo LinearRegression()\n",
            "Training Score is 0.9077989643073343 and Testing Score is 0.9329319401282644 and rs is 5 and algo LinearRegression()\n",
            "Training Score is 0.8981585296244883 and Testing Score is 0.9281984313701543 and rs is 5 and algo LinearRegression()\n",
            "Training Score is 0.9190730775440834 and Testing Score is 0.9363221044939641 and rs is 6 and algo LinearRegression()\n",
            "Training Score is 0.8971273526967362 and Testing Score is 0.9114312602812386 and rs is 6 and algo LinearRegression()\n",
            "Training Score is 0.9062143716262189 and Testing Score is 0.9290928033586068 and rs is 6 and algo LinearRegression()\n",
            "Training Score is 0.9002280522854738 and Testing Score is 0.9255767725973972 and rs is 7 and algo LinearRegression()\n",
            "Training Score is 0.847827760194349 and Testing Score is 0.9136691351228434 and rs is 8 and algo LinearRegression()\n",
            "Training Score is 0.8872243315836644 and Testing Score is 0.9018628127358734 and rs is 8 and algo LinearRegression()\n",
            "Training Score is 0.8875374810862975 and Testing Score is 0.9256398932974511 and rs is 9 and algo LinearRegression()\n",
            "Training Score is 0.9093129054892389 and Testing Score is 0.9158147598757411 and rs is 9 and algo LinearRegression()\n"
          ]
        }
      ]
    },
    {
      "cell_type": "code",
      "source": [
        "import warnings\n",
        "from sklearn.ensemble import BaggingRegressor\n",
        "from sklearn.linear_model import LinearRegression\n",
        "from sklearn.tree import DecisionTreeRegressor\n",
        "from sklearn.neighbors import KNeighborsRegressor\n",
        "\n",
        "for rs in range(1,10):\n",
        "\n",
        "  sampleSize = int(round(np.sqrt(len(X_train))))\n",
        "  X_train,X_test,y_train,y_test = train_test_split(finalFeatureSet,\n",
        "                                                 label,\n",
        "                                                 test_size=0.2,\n",
        "                                                 random_state=rs)\n",
        "\n",
        "  sampleSize = int(round(np.sqrt(len(X_train))))\n",
        "\n",
        "  for algo in (LinearRegression(),DecisionTreeRegressor(),KNeighborsRegressor()):\n",
        "    for rst in range(1,50):\n",
        "      ensembleModel = BaggingRegressor(n_estimators=15, estimator=algo, max_samples=sampleSize, bootstrap=False, random_state=rst)\n",
        "      ensembleModel.fit(X_train,y_train)\n",
        "      testScore = ensembleModel.score(X_test,y_test)\n",
        "      trainScore = ensembleModel.score(X_train,y_train)\n",
        "      if testScore > trainScore and testScore > 0.90:\n",
        "        print(f\"Training Score is {trainScore} and Testing Score is {testScore} and rs is {rs} and rst is {rst} and algo is {algo}\")"
      ],
      "metadata": {
        "colab": {
          "base_uri": "https://localhost:8080/"
        },
        "id": "hCQ0Zmmbai8u",
        "outputId": "1e8f1560-d1d5-4dfc-a1cc-a01554da66c7"
      },
      "execution_count": 21,
      "outputs": [
        {
          "output_type": "stream",
          "name": "stdout",
          "text": [
            "Training Score is 0.8800477685265955 and Testing Score is 0.9313607870532546 and rs is 1 and rst is 1 and algo is LinearRegression()\n",
            "Training Score is 0.8538527860392727 and Testing Score is 0.9218734342154324 and rs is 1 and rst is 8 and algo is LinearRegression()\n",
            "Training Score is 0.9367782769871448 and Testing Score is 0.9644365504248811 and rs is 1 and rst is 9 and algo is LinearRegression()\n",
            "Training Score is 0.9225074229624851 and Testing Score is 0.9336549279177995 and rs is 1 and rst is 11 and algo is LinearRegression()\n",
            "Training Score is 0.8646691655429606 and Testing Score is 0.9437999697463562 and rs is 1 and rst is 13 and algo is LinearRegression()\n",
            "Training Score is 0.8840531861367716 and Testing Score is 0.9386367888594562 and rs is 1 and rst is 15 and algo is LinearRegression()\n",
            "Training Score is 0.8924012164321201 and Testing Score is 0.9034366955320591 and rs is 1 and rst is 16 and algo is LinearRegression()\n",
            "Training Score is 0.9297493892327889 and Testing Score is 0.957833565315761 and rs is 1 and rst is 18 and algo is LinearRegression()\n",
            "Training Score is 0.9224744538577058 and Testing Score is 0.9514619090221683 and rs is 1 and rst is 20 and algo is LinearRegression()\n",
            "Training Score is 0.92165416640607 and Testing Score is 0.9436530501612895 and rs is 1 and rst is 21 and algo is LinearRegression()\n",
            "Training Score is 0.898132960265757 and Testing Score is 0.9363570182386793 and rs is 1 and rst is 24 and algo is LinearRegression()\n",
            "Training Score is 0.9120529769975523 and Testing Score is 0.9356305923506321 and rs is 1 and rst is 27 and algo is LinearRegression()\n",
            "Training Score is 0.913009183857642 and Testing Score is 0.9406780476421724 and rs is 1 and rst is 30 and algo is LinearRegression()\n",
            "Training Score is 0.8947638830985343 and Testing Score is 0.9129906604233102 and rs is 1 and rst is 32 and algo is LinearRegression()\n",
            "Training Score is 0.8325920399863984 and Testing Score is 0.9333058250815882 and rs is 1 and rst is 33 and algo is LinearRegression()\n",
            "Training Score is 0.9185984778220371 and Testing Score is 0.9417583795788306 and rs is 1 and rst is 40 and algo is LinearRegression()\n",
            "Training Score is 0.8949966351553705 and Testing Score is 0.9223273321310694 and rs is 1 and rst is 43 and algo is LinearRegression()\n",
            "Training Score is 0.9104837542435491 and Testing Score is 0.9396474464436771 and rs is 1 and rst is 45 and algo is LinearRegression()\n",
            "Training Score is 0.9109689857635168 and Testing Score is 0.9427288202148832 and rs is 2 and rst is 2 and algo is LinearRegression()\n",
            "Training Score is 0.8874805325421771 and Testing Score is 0.9288119290947697 and rs is 2 and rst is 3 and algo is LinearRegression()\n",
            "Training Score is 0.9249755511367116 and Testing Score is 0.9643590797328669 and rs is 2 and rst is 15 and algo is LinearRegression()\n",
            "Training Score is 0.9190004788279624 and Testing Score is 0.9405662742878742 and rs is 2 and rst is 20 and algo is LinearRegression()\n",
            "Training Score is 0.8918437735188995 and Testing Score is 0.9580711101679042 and rs is 2 and rst is 25 and algo is LinearRegression()\n",
            "Training Score is 0.8976092532896152 and Testing Score is 0.9410618109974422 and rs is 2 and rst is 32 and algo is LinearRegression()\n",
            "Training Score is 0.8943257833517047 and Testing Score is 0.9339523027158741 and rs is 2 and rst is 44 and algo is LinearRegression()\n",
            "Training Score is 0.9248193386233612 and Testing Score is 0.9605806259962961 and rs is 2 and rst is 45 and algo is LinearRegression()\n",
            "Training Score is 0.8677624202997266 and Testing Score is 0.9406602154972161 and rs is 2 and rst is 48 and algo is LinearRegression()\n",
            "Training Score is 0.8979063377526315 and Testing Score is 0.9486279908663171 and rs is 2 and rst is 49 and algo is LinearRegression()\n",
            "Training Score is 0.9041062619892156 and Testing Score is 0.9107094827284093 and rs is 3 and rst is 7 and algo is LinearRegression()\n",
            "Training Score is 0.9105795152562653 and Testing Score is 0.9230609368089546 and rs is 3 and rst is 29 and algo is LinearRegression()\n",
            "Training Score is 0.9036016297497307 and Testing Score is 0.9066448584912206 and rs is 3 and rst is 32 and algo is LinearRegression()\n",
            "Training Score is 0.9123186453918763 and Testing Score is 0.9422233016275727 and rs is 3 and rst is 41 and algo is LinearRegression()\n",
            "Training Score is 0.8797104558096082 and Testing Score is 0.9229337194494631 and rs is 4 and rst is 1 and algo is LinearRegression()\n",
            "Training Score is 0.8823863442949518 and Testing Score is 0.9389497711282876 and rs is 4 and rst is 9 and algo is LinearRegression()\n",
            "Training Score is 0.8928603585687309 and Testing Score is 0.9333068558967438 and rs is 4 and rst is 15 and algo is LinearRegression()\n",
            "Training Score is 0.906577947898321 and Testing Score is 0.9416910124597294 and rs is 4 and rst is 24 and algo is LinearRegression()\n",
            "Training Score is 0.89484917709948 and Testing Score is 0.9197510707942236 and rs is 4 and rst is 27 and algo is LinearRegression()\n",
            "Training Score is 0.9285764147833794 and Testing Score is 0.9565662552407271 and rs is 4 and rst is 40 and algo is LinearRegression()\n",
            "Training Score is 0.9341036609578868 and Testing Score is 0.9376611721593038 and rs is 4 and rst is 42 and algo is LinearRegression()\n",
            "Training Score is 0.9117901159262457 and Testing Score is 0.9125076458399862 and rs is 4 and rst is 43 and algo is LinearRegression()\n",
            "Training Score is 0.8662988400827811 and Testing Score is 0.9032242389865717 and rs is 4 and rst is 45 and algo is LinearRegression()\n",
            "Training Score is 0.9332782033615601 and Testing Score is 0.9564866407699897 and rs is 4 and rst is 46 and algo is LinearRegression()\n",
            "Training Score is 0.8913712020771175 and Testing Score is 0.9330458189986259 and rs is 4 and rst is 47 and algo is LinearRegression()\n",
            "Training Score is 0.9165668623338653 and Testing Score is 0.9398641886776524 and rs is 5 and rst is 10 and algo is LinearRegression()\n",
            "Training Score is 0.9392681397074211 and Testing Score is 0.9738464322828638 and rs is 5 and rst is 11 and algo is LinearRegression()\n",
            "Training Score is 0.9356667292303813 and Testing Score is 0.9782887254929232 and rs is 5 and rst is 14 and algo is LinearRegression()\n",
            "Training Score is 0.9008477903699885 and Testing Score is 0.9158422570898433 and rs is 5 and rst is 27 and algo is LinearRegression()\n",
            "Training Score is 0.9265194443576388 and Testing Score is 0.9502022363511954 and rs is 5 and rst is 30 and algo is LinearRegression()\n",
            "Training Score is 0.8704964737459537 and Testing Score is 0.9249157112755896 and rs is 6 and rst is 3 and algo is LinearRegression()\n",
            "Training Score is 0.927523592716374 and Testing Score is 0.9277904950879361 and rs is 6 and rst is 38 and algo is LinearRegression()\n",
            "Training Score is 0.890633718812336 and Testing Score is 0.9195391136236544 and rs is 7 and rst is 45 and algo is LinearRegression()\n",
            "Training Score is 0.8957014544727335 and Testing Score is 0.9196001536558325 and rs is 8 and rst is 27 and algo is LinearRegression()\n"
          ]
        }
      ]
    }
  ]
}