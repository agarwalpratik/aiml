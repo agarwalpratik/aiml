{
  "nbformat": 4,
  "nbformat_minor": 0,
  "metadata": {
    "colab": {
      "provenance": [],
      "include_colab_link": true
    },
    "kernelspec": {
      "name": "python3",
      "display_name": "Python 3"
    },
    "language_info": {
      "name": "python"
    }
  },
  "cells": [
    {
      "cell_type": "markdown",
      "metadata": {
        "id": "view-in-github",
        "colab_type": "text"
      },
      "source": [
        "<a href=\"https://colab.research.google.com/github/agarwalpratik/aiml/blob/main/Cross_Validation_Technique_Iris_50_Startups.ipynb\" target=\"_parent\"><img src=\"https://colab.research.google.com/assets/colab-badge.svg\" alt=\"Open In Colab\"/></a>"
      ]
    },
    {
      "cell_type": "code",
      "execution_count": null,
      "metadata": {
        "id": "acKTLvKt5gIX"
      },
      "outputs": [],
      "source": [
        "# Cross Validation\n",
        "# Cross Validation is applied on the entire dataset (Pre-modelling Phase | EDA)\n",
        "# The ideal goal of CV\"\n",
        "# 1. Get the score threshold / benchmark (this benchmark can act as a SL value)\n",
        "# 2. Get the possible optimal score\n",
        "# 3. Extract the best training sample that may provide the optimal score"
      ]
    },
    {
      "cell_type": "code",
      "source": [
        "import pandas as pd\n",
        "import numpy as np\n",
        "\n",
        "data= pd.read_csv('50_Startups.csv')"
      ],
      "metadata": {
        "id": "M9UouSPx6V5I"
      },
      "execution_count": 10,
      "outputs": []
    },
    {
      "cell_type": "code",
      "source": [
        "data.info()"
      ],
      "metadata": {
        "colab": {
          "base_uri": "https://localhost:8080/"
        },
        "id": "LubSrE346cWz",
        "outputId": "fac22ea0-f088-4b38-e7ce-085ef4394d84"
      },
      "execution_count": 11,
      "outputs": [
        {
          "output_type": "stream",
          "name": "stdout",
          "text": [
            "<class 'pandas.core.frame.DataFrame'>\n",
            "RangeIndex: 50 entries, 0 to 49\n",
            "Data columns (total 5 columns):\n",
            " #   Column           Non-Null Count  Dtype  \n",
            "---  ------           --------------  -----  \n",
            " 0   R&D Spend        50 non-null     float64\n",
            " 1   Administration   50 non-null     float64\n",
            " 2   Marketing Spend  50 non-null     float64\n",
            " 3   State            50 non-null     object \n",
            " 4   Profit           50 non-null     float64\n",
            "dtypes: float64(4), object(1)\n",
            "memory usage: 2.1+ KB\n"
          ]
        }
      ]
    },
    {
      "cell_type": "code",
      "source": [
        "data.head()"
      ],
      "metadata": {
        "colab": {
          "base_uri": "https://localhost:8080/",
          "height": 206
        },
        "id": "IztQPdSl6eSX",
        "outputId": "c297fe18-b17f-4ac5-de17-977057bb4a99"
      },
      "execution_count": 12,
      "outputs": [
        {
          "output_type": "execute_result",
          "data": {
            "text/plain": [
              "   R&D Spend  Administration  Marketing Spend       State     Profit\n",
              "0  165349.20       136897.80        471784.10    New York  192261.83\n",
              "1  162597.70       151377.59        443898.53  California  191792.06\n",
              "2  153441.51       101145.55        407934.54     Florida  191050.39\n",
              "3  144372.41       118671.85        383199.62    New York  182901.99\n",
              "4  142107.34        91391.77        366168.42     Florida  166187.94"
            ],
            "text/html": [
              "\n",
              "  <div id=\"df-c6dba621-0ff4-450c-9478-1f477dd1469d\" class=\"colab-df-container\">\n",
              "    <div>\n",
              "<style scoped>\n",
              "    .dataframe tbody tr th:only-of-type {\n",
              "        vertical-align: middle;\n",
              "    }\n",
              "\n",
              "    .dataframe tbody tr th {\n",
              "        vertical-align: top;\n",
              "    }\n",
              "\n",
              "    .dataframe thead th {\n",
              "        text-align: right;\n",
              "    }\n",
              "</style>\n",
              "<table border=\"1\" class=\"dataframe\">\n",
              "  <thead>\n",
              "    <tr style=\"text-align: right;\">\n",
              "      <th></th>\n",
              "      <th>R&amp;D Spend</th>\n",
              "      <th>Administration</th>\n",
              "      <th>Marketing Spend</th>\n",
              "      <th>State</th>\n",
              "      <th>Profit</th>\n",
              "    </tr>\n",
              "  </thead>\n",
              "  <tbody>\n",
              "    <tr>\n",
              "      <th>0</th>\n",
              "      <td>165349.20</td>\n",
              "      <td>136897.80</td>\n",
              "      <td>471784.10</td>\n",
              "      <td>New York</td>\n",
              "      <td>192261.83</td>\n",
              "    </tr>\n",
              "    <tr>\n",
              "      <th>1</th>\n",
              "      <td>162597.70</td>\n",
              "      <td>151377.59</td>\n",
              "      <td>443898.53</td>\n",
              "      <td>California</td>\n",
              "      <td>191792.06</td>\n",
              "    </tr>\n",
              "    <tr>\n",
              "      <th>2</th>\n",
              "      <td>153441.51</td>\n",
              "      <td>101145.55</td>\n",
              "      <td>407934.54</td>\n",
              "      <td>Florida</td>\n",
              "      <td>191050.39</td>\n",
              "    </tr>\n",
              "    <tr>\n",
              "      <th>3</th>\n",
              "      <td>144372.41</td>\n",
              "      <td>118671.85</td>\n",
              "      <td>383199.62</td>\n",
              "      <td>New York</td>\n",
              "      <td>182901.99</td>\n",
              "    </tr>\n",
              "    <tr>\n",
              "      <th>4</th>\n",
              "      <td>142107.34</td>\n",
              "      <td>91391.77</td>\n",
              "      <td>366168.42</td>\n",
              "      <td>Florida</td>\n",
              "      <td>166187.94</td>\n",
              "    </tr>\n",
              "  </tbody>\n",
              "</table>\n",
              "</div>\n",
              "    <div class=\"colab-df-buttons\">\n",
              "\n",
              "  <div class=\"colab-df-container\">\n",
              "    <button class=\"colab-df-convert\" onclick=\"convertToInteractive('df-c6dba621-0ff4-450c-9478-1f477dd1469d')\"\n",
              "            title=\"Convert this dataframe to an interactive table.\"\n",
              "            style=\"display:none;\">\n",
              "\n",
              "  <svg xmlns=\"http://www.w3.org/2000/svg\" height=\"24px\" viewBox=\"0 -960 960 960\">\n",
              "    <path d=\"M120-120v-720h720v720H120Zm60-500h600v-160H180v160Zm220 220h160v-160H400v160Zm0 220h160v-160H400v160ZM180-400h160v-160H180v160Zm440 0h160v-160H620v160ZM180-180h160v-160H180v160Zm440 0h160v-160H620v160Z\"/>\n",
              "  </svg>\n",
              "    </button>\n",
              "\n",
              "  <style>\n",
              "    .colab-df-container {\n",
              "      display:flex;\n",
              "      gap: 12px;\n",
              "    }\n",
              "\n",
              "    .colab-df-convert {\n",
              "      background-color: #E8F0FE;\n",
              "      border: none;\n",
              "      border-radius: 50%;\n",
              "      cursor: pointer;\n",
              "      display: none;\n",
              "      fill: #1967D2;\n",
              "      height: 32px;\n",
              "      padding: 0 0 0 0;\n",
              "      width: 32px;\n",
              "    }\n",
              "\n",
              "    .colab-df-convert:hover {\n",
              "      background-color: #E2EBFA;\n",
              "      box-shadow: 0px 1px 2px rgba(60, 64, 67, 0.3), 0px 1px 3px 1px rgba(60, 64, 67, 0.15);\n",
              "      fill: #174EA6;\n",
              "    }\n",
              "\n",
              "    .colab-df-buttons div {\n",
              "      margin-bottom: 4px;\n",
              "    }\n",
              "\n",
              "    [theme=dark] .colab-df-convert {\n",
              "      background-color: #3B4455;\n",
              "      fill: #D2E3FC;\n",
              "    }\n",
              "\n",
              "    [theme=dark] .colab-df-convert:hover {\n",
              "      background-color: #434B5C;\n",
              "      box-shadow: 0px 1px 3px 1px rgba(0, 0, 0, 0.15);\n",
              "      filter: drop-shadow(0px 1px 2px rgba(0, 0, 0, 0.3));\n",
              "      fill: #FFFFFF;\n",
              "    }\n",
              "  </style>\n",
              "\n",
              "    <script>\n",
              "      const buttonEl =\n",
              "        document.querySelector('#df-c6dba621-0ff4-450c-9478-1f477dd1469d button.colab-df-convert');\n",
              "      buttonEl.style.display =\n",
              "        google.colab.kernel.accessAllowed ? 'block' : 'none';\n",
              "\n",
              "      async function convertToInteractive(key) {\n",
              "        const element = document.querySelector('#df-c6dba621-0ff4-450c-9478-1f477dd1469d');\n",
              "        const dataTable =\n",
              "          await google.colab.kernel.invokeFunction('convertToInteractive',\n",
              "                                                    [key], {});\n",
              "        if (!dataTable) return;\n",
              "\n",
              "        const docLinkHtml = 'Like what you see? Visit the ' +\n",
              "          '<a target=\"_blank\" href=https://colab.research.google.com/notebooks/data_table.ipynb>data table notebook</a>'\n",
              "          + ' to learn more about interactive tables.';\n",
              "        element.innerHTML = '';\n",
              "        dataTable['output_type'] = 'display_data';\n",
              "        await google.colab.output.renderOutput(dataTable, element);\n",
              "        const docLink = document.createElement('div');\n",
              "        docLink.innerHTML = docLinkHtml;\n",
              "        element.appendChild(docLink);\n",
              "      }\n",
              "    </script>\n",
              "  </div>\n",
              "\n",
              "\n",
              "<div id=\"df-cb4be1b2-6a74-42af-80fd-c92383d43c4f\">\n",
              "  <button class=\"colab-df-quickchart\" onclick=\"quickchart('df-cb4be1b2-6a74-42af-80fd-c92383d43c4f')\"\n",
              "            title=\"Suggest charts\"\n",
              "            style=\"display:none;\">\n",
              "\n",
              "<svg xmlns=\"http://www.w3.org/2000/svg\" height=\"24px\"viewBox=\"0 0 24 24\"\n",
              "     width=\"24px\">\n",
              "    <g>\n",
              "        <path d=\"M19 3H5c-1.1 0-2 .9-2 2v14c0 1.1.9 2 2 2h14c1.1 0 2-.9 2-2V5c0-1.1-.9-2-2-2zM9 17H7v-7h2v7zm4 0h-2V7h2v10zm4 0h-2v-4h2v4z\"/>\n",
              "    </g>\n",
              "</svg>\n",
              "  </button>\n",
              "\n",
              "<style>\n",
              "  .colab-df-quickchart {\n",
              "      --bg-color: #E8F0FE;\n",
              "      --fill-color: #1967D2;\n",
              "      --hover-bg-color: #E2EBFA;\n",
              "      --hover-fill-color: #174EA6;\n",
              "      --disabled-fill-color: #AAA;\n",
              "      --disabled-bg-color: #DDD;\n",
              "  }\n",
              "\n",
              "  [theme=dark] .colab-df-quickchart {\n",
              "      --bg-color: #3B4455;\n",
              "      --fill-color: #D2E3FC;\n",
              "      --hover-bg-color: #434B5C;\n",
              "      --hover-fill-color: #FFFFFF;\n",
              "      --disabled-bg-color: #3B4455;\n",
              "      --disabled-fill-color: #666;\n",
              "  }\n",
              "\n",
              "  .colab-df-quickchart {\n",
              "    background-color: var(--bg-color);\n",
              "    border: none;\n",
              "    border-radius: 50%;\n",
              "    cursor: pointer;\n",
              "    display: none;\n",
              "    fill: var(--fill-color);\n",
              "    height: 32px;\n",
              "    padding: 0;\n",
              "    width: 32px;\n",
              "  }\n",
              "\n",
              "  .colab-df-quickchart:hover {\n",
              "    background-color: var(--hover-bg-color);\n",
              "    box-shadow: 0 1px 2px rgba(60, 64, 67, 0.3), 0 1px 3px 1px rgba(60, 64, 67, 0.15);\n",
              "    fill: var(--button-hover-fill-color);\n",
              "  }\n",
              "\n",
              "  .colab-df-quickchart-complete:disabled,\n",
              "  .colab-df-quickchart-complete:disabled:hover {\n",
              "    background-color: var(--disabled-bg-color);\n",
              "    fill: var(--disabled-fill-color);\n",
              "    box-shadow: none;\n",
              "  }\n",
              "\n",
              "  .colab-df-spinner {\n",
              "    border: 2px solid var(--fill-color);\n",
              "    border-color: transparent;\n",
              "    border-bottom-color: var(--fill-color);\n",
              "    animation:\n",
              "      spin 1s steps(1) infinite;\n",
              "  }\n",
              "\n",
              "  @keyframes spin {\n",
              "    0% {\n",
              "      border-color: transparent;\n",
              "      border-bottom-color: var(--fill-color);\n",
              "      border-left-color: var(--fill-color);\n",
              "    }\n",
              "    20% {\n",
              "      border-color: transparent;\n",
              "      border-left-color: var(--fill-color);\n",
              "      border-top-color: var(--fill-color);\n",
              "    }\n",
              "    30% {\n",
              "      border-color: transparent;\n",
              "      border-left-color: var(--fill-color);\n",
              "      border-top-color: var(--fill-color);\n",
              "      border-right-color: var(--fill-color);\n",
              "    }\n",
              "    40% {\n",
              "      border-color: transparent;\n",
              "      border-right-color: var(--fill-color);\n",
              "      border-top-color: var(--fill-color);\n",
              "    }\n",
              "    60% {\n",
              "      border-color: transparent;\n",
              "      border-right-color: var(--fill-color);\n",
              "    }\n",
              "    80% {\n",
              "      border-color: transparent;\n",
              "      border-right-color: var(--fill-color);\n",
              "      border-bottom-color: var(--fill-color);\n",
              "    }\n",
              "    90% {\n",
              "      border-color: transparent;\n",
              "      border-bottom-color: var(--fill-color);\n",
              "    }\n",
              "  }\n",
              "</style>\n",
              "\n",
              "  <script>\n",
              "    async function quickchart(key) {\n",
              "      const quickchartButtonEl =\n",
              "        document.querySelector('#' + key + ' button');\n",
              "      quickchartButtonEl.disabled = true;  // To prevent multiple clicks.\n",
              "      quickchartButtonEl.classList.add('colab-df-spinner');\n",
              "      try {\n",
              "        const charts = await google.colab.kernel.invokeFunction(\n",
              "            'suggestCharts', [key], {});\n",
              "      } catch (error) {\n",
              "        console.error('Error during call to suggestCharts:', error);\n",
              "      }\n",
              "      quickchartButtonEl.classList.remove('colab-df-spinner');\n",
              "      quickchartButtonEl.classList.add('colab-df-quickchart-complete');\n",
              "    }\n",
              "    (() => {\n",
              "      let quickchartButtonEl =\n",
              "        document.querySelector('#df-cb4be1b2-6a74-42af-80fd-c92383d43c4f button');\n",
              "      quickchartButtonEl.style.display =\n",
              "        google.colab.kernel.accessAllowed ? 'block' : 'none';\n",
              "    })();\n",
              "  </script>\n",
              "</div>\n",
              "\n",
              "    </div>\n",
              "  </div>\n"
            ],
            "application/vnd.google.colaboratory.intrinsic+json": {
              "type": "dataframe",
              "variable_name": "data",
              "summary": "{\n  \"name\": \"data\",\n  \"rows\": 50,\n  \"fields\": [\n    {\n      \"column\": \"R&D Spend\",\n      \"properties\": {\n        \"dtype\": \"number\",\n        \"std\": 45902.25648230753,\n        \"min\": 0.0,\n        \"max\": 165349.2,\n        \"num_unique_values\": 49,\n        \"samples\": [\n          91992.39,\n          1000.23,\n          0.0\n        ],\n        \"semantic_type\": \"\",\n        \"description\": \"\"\n      }\n    },\n    {\n      \"column\": \"Administration\",\n      \"properties\": {\n        \"dtype\": \"number\",\n        \"std\": 28017.802755488683,\n        \"min\": 51283.14,\n        \"max\": 182645.56,\n        \"num_unique_values\": 50,\n        \"samples\": [\n          135495.07,\n          82982.09,\n          115641.28\n        ],\n        \"semantic_type\": \"\",\n        \"description\": \"\"\n      }\n    },\n    {\n      \"column\": \"Marketing Spend\",\n      \"properties\": {\n        \"dtype\": \"number\",\n        \"std\": 122290.31072584528,\n        \"min\": 0.0,\n        \"max\": 471784.1,\n        \"num_unique_values\": 48,\n        \"samples\": [\n          353183.81,\n          172795.67,\n          134050.07\n        ],\n        \"semantic_type\": \"\",\n        \"description\": \"\"\n      }\n    },\n    {\n      \"column\": \"State\",\n      \"properties\": {\n        \"dtype\": \"category\",\n        \"num_unique_values\": 3,\n        \"samples\": [\n          \"New York\",\n          \"California\",\n          \"Florida\"\n        ],\n        \"semantic_type\": \"\",\n        \"description\": \"\"\n      }\n    },\n    {\n      \"column\": \"Profit\",\n      \"properties\": {\n        \"dtype\": \"number\",\n        \"std\": 40306.18033765055,\n        \"min\": 14681.4,\n        \"max\": 192261.83,\n        \"num_unique_values\": 50,\n        \"samples\": [\n          134307.35,\n          81005.76,\n          99937.59\n        ],\n        \"semantic_type\": \"\",\n        \"description\": \"\"\n      }\n    }\n  ]\n}"
            }
          },
          "metadata": {},
          "execution_count": 12
        }
      ]
    },
    {
      "cell_type": "code",
      "source": [
        "#Cross validation technique is only applicable for Supervised Learning\n",
        "\n",
        "features = data.iloc[:,0:4].values\n",
        "finalLabels = data.iloc[:,4].values\n",
        "\n",
        "\n",
        "from sklearn.preprocessing import OneHotEncoder\n",
        "oheForstate = OneHotEncoder(sparse_output=False)\n",
        "oheForstate.fit(features[:,[3]])\n",
        "dummyVariables = oheForstate.transform(features[:,[3]]).astype(int)\n",
        "\n",
        "\n",
        "finalFeatures = np.concatenate([dummyVariables,features[:,[0,1,2]]] , axis = 1)\n",
        "finalFeatures"
      ],
      "metadata": {
        "id": "DD3Ea3ls6fA-",
        "colab": {
          "base_uri": "https://localhost:8080/"
        },
        "outputId": "42642d0d-adaf-4afb-89b2-3108bda7abef"
      },
      "execution_count": 13,
      "outputs": [
        {
          "output_type": "execute_result",
          "data": {
            "text/plain": [
              "array([[0, 0, 1, 165349.2, 136897.8, 471784.1],\n",
              "       [1, 0, 0, 162597.7, 151377.59, 443898.53],\n",
              "       [0, 1, 0, 153441.51, 101145.55, 407934.54],\n",
              "       [0, 0, 1, 144372.41, 118671.85, 383199.62],\n",
              "       [0, 1, 0, 142107.34, 91391.77, 366168.42],\n",
              "       [0, 0, 1, 131876.9, 99814.71, 362861.36],\n",
              "       [1, 0, 0, 134615.46, 147198.87, 127716.82],\n",
              "       [0, 1, 0, 130298.13, 145530.06, 323876.68],\n",
              "       [0, 0, 1, 120542.52, 148718.95, 311613.29],\n",
              "       [1, 0, 0, 123334.88, 108679.17, 304981.62],\n",
              "       [0, 1, 0, 101913.08, 110594.11, 229160.95],\n",
              "       [1, 0, 0, 100671.96, 91790.61, 249744.55],\n",
              "       [0, 1, 0, 93863.75, 127320.38, 249839.44],\n",
              "       [1, 0, 0, 91992.39, 135495.07, 252664.93],\n",
              "       [0, 1, 0, 119943.24, 156547.42, 256512.92],\n",
              "       [0, 0, 1, 114523.61, 122616.84, 261776.23],\n",
              "       [1, 0, 0, 78013.11, 121597.55, 264346.06],\n",
              "       [0, 0, 1, 94657.16, 145077.58, 282574.31],\n",
              "       [0, 1, 0, 91749.16, 114175.79, 294919.57],\n",
              "       [0, 0, 1, 86419.7, 153514.11, 0.0],\n",
              "       [1, 0, 0, 76253.86, 113867.3, 298664.47],\n",
              "       [0, 0, 1, 78389.47, 153773.43, 299737.29],\n",
              "       [0, 1, 0, 73994.56, 122782.75, 303319.26],\n",
              "       [0, 1, 0, 67532.53, 105751.03, 304768.73],\n",
              "       [0, 0, 1, 77044.01, 99281.34, 140574.81],\n",
              "       [1, 0, 0, 64664.71, 139553.16, 137962.62],\n",
              "       [0, 1, 0, 75328.87, 144135.98, 134050.07],\n",
              "       [0, 0, 1, 72107.6, 127864.55, 353183.81],\n",
              "       [0, 1, 0, 66051.52, 182645.56, 118148.2],\n",
              "       [0, 0, 1, 65605.48, 153032.06, 107138.38],\n",
              "       [0, 1, 0, 61994.48, 115641.28, 91131.24],\n",
              "       [0, 0, 1, 61136.38, 152701.92, 88218.23],\n",
              "       [1, 0, 0, 63408.86, 129219.61, 46085.25],\n",
              "       [0, 1, 0, 55493.95, 103057.49, 214634.81],\n",
              "       [1, 0, 0, 46426.07, 157693.92, 210797.67],\n",
              "       [0, 0, 1, 46014.02, 85047.44, 205517.64],\n",
              "       [0, 1, 0, 28663.76, 127056.21, 201126.82],\n",
              "       [1, 0, 0, 44069.95, 51283.14, 197029.42],\n",
              "       [0, 0, 1, 20229.59, 65947.93, 185265.1],\n",
              "       [1, 0, 0, 38558.51, 82982.09, 174999.3],\n",
              "       [1, 0, 0, 28754.33, 118546.05, 172795.67],\n",
              "       [0, 1, 0, 27892.92, 84710.77, 164470.71],\n",
              "       [1, 0, 0, 23640.93, 96189.63, 148001.11],\n",
              "       [0, 0, 1, 15505.73, 127382.3, 35534.17],\n",
              "       [1, 0, 0, 22177.74, 154806.14, 28334.72],\n",
              "       [0, 0, 1, 1000.23, 124153.04, 1903.93],\n",
              "       [0, 1, 0, 1315.46, 115816.21, 297114.46],\n",
              "       [1, 0, 0, 0.0, 135426.92, 0.0],\n",
              "       [0, 0, 1, 542.05, 51743.15, 0.0],\n",
              "       [1, 0, 0, 0.0, 116983.8, 45173.06]], dtype=object)"
            ]
          },
          "metadata": {},
          "execution_count": 13
        }
      ]
    },
    {
      "cell_type": "code",
      "source": [
        "import warnings\n",
        "warnings.filterwarnings('ignore')\n",
        "from sklearn.linear_model import LinearRegression\n",
        "from sklearn.model_selection import cross_val_score\n",
        "\n",
        "model = LinearRegression()\n",
        "score = cross_val_score(model,finalFeatures,finalLabels,cv=5)\n"
      ],
      "metadata": {
        "id": "o9xgvI196u3P"
      },
      "execution_count": 17,
      "outputs": []
    },
    {
      "cell_type": "code",
      "source": [
        "score"
      ],
      "metadata": {
        "colab": {
          "base_uri": "https://localhost:8080/"
        },
        "id": "AHCxWeI17lVd",
        "outputId": "37580f46-6045-4233-87bf-5001b4698aff"
      },
      "execution_count": 18,
      "outputs": [
        {
          "output_type": "execute_result",
          "data": {
            "text/plain": [
              "array([ 0.8890891 , -1.00022611, -0.78958092, -0.76036588,  0.38538399])"
            ]
          },
          "metadata": {},
          "execution_count": 18
        }
      ]
    },
    {
      "cell_type": "code",
      "source": [
        "# 1. Get the score threshold / benchmark (this benchmark can act as a SL value)\n",
        "\n",
        "print(\"Base Threshold score expected for LogisticRegression model is \",score.mean())\n",
        "print(\"Suggested SL value for this project is \", 1-score.mean())"
      ],
      "metadata": {
        "colab": {
          "base_uri": "https://localhost:8080/"
        },
        "id": "ZYdycCxA7nWv",
        "outputId": "fe2b7c72-4bcf-4239-abda-54112fbdb748"
      },
      "execution_count": 19,
      "outputs": [
        {
          "output_type": "stream",
          "name": "stdout",
          "text": [
            "Base Threshold score expected for LogisticRegression model is  -0.2551399655258996\n",
            "Suggested SL value for this project is  1.2551399655258997\n"
          ]
        }
      ]
    },
    {
      "cell_type": "code",
      "source": [
        "#2. Optimal Score\n",
        "print(\"Optimal Score possible for the given algo is \", score.max())\n",
        "print(\"Optimal Score possible for the given algo is \", score.min())"
      ],
      "metadata": {
        "colab": {
          "base_uri": "https://localhost:8080/"
        },
        "id": "XvfBmL-675a1",
        "outputId": "02ba9e2f-4c68-4a1a-fc9d-1680d7a6bb99"
      },
      "execution_count": 20,
      "outputs": [
        {
          "output_type": "stream",
          "name": "stdout",
          "text": [
            "Optimal Score possible for the given algo is  0.8890890994779715\n",
            "Optimal Score possible for the given algo is  -1.0002261132038623\n"
          ]
        }
      ]
    },
    {
      "cell_type": "code",
      "source": [
        "#3. To extract the best training sample that may provide the optimal score\n",
        "\n",
        "# SEARCH : Tracker value with highest testScorew\n",
        "#==========\n",
        "import warnings\n",
        "warnings.filterwarnings(\"ignore\")\n",
        "\n",
        "CL = score.mean()\n",
        "\n",
        "#Step1: Initialize the algo\n",
        "from sklearn.linear_model import LinearRegression\n",
        "model = LinearRegression()\n",
        "\n",
        "#Step2: Initialize K-Fold Cross Validation\n",
        "\n",
        "from sklearn.model_selection import KFold\n",
        "kfold = KFold(n_splits=5, #This value MUST be equal to the cv value of cross_val_score\n",
        "              shuffle=True,\n",
        "              random_state=1) #For reproducing same o/p\n",
        "\n",
        "#Step3: Initialize tracker to track the best sample\n",
        "tracker = 0\n",
        "\n",
        "for train,test in kfold.split(finalFeatures):\n",
        "  tracker += 1\n",
        "\n",
        "  X_train,X_test,y_train,y_test = finalFeatures[train],finalFeatures[test],finalLabels[train],finalLabels[test]\n",
        "\n",
        "  model.fit(X_train,y_train)\n",
        "\n",
        "  if model.score(X_test,y_test) >= CL:\n",
        "    print(f\"Test Score {model.score(X_test,y_test)} Train Score {model.score(X_train,y_train)} for Sample split {tracker}\")\n"
      ],
      "metadata": {
        "colab": {
          "base_uri": "https://localhost:8080/"
        },
        "id": "AjsxSah3C42j",
        "outputId": "16473875-7899-45e3-d682-bb5a7a0a5d00"
      },
      "execution_count": 21,
      "outputs": [
        {
          "output_type": "stream",
          "name": "stdout",
          "text": [
            "Test Score 0.9649618042060308 Train Score 0.942446542689397 for Sample split 1\n",
            "Test Score 0.8185106842705208 Train Score 0.9655319679423091 for Sample split 2\n",
            "Test Score 0.8820715931491742 Train Score 0.957307628387595 for Sample split 3\n",
            "Test Score 0.9846245896509758 Train Score 0.939824209339928 for Sample split 4\n",
            "Test Score 0.9156298183227459 Train Score 0.9499864582841221 for Sample split 5\n"
          ]
        }
      ]
    }
  ]
}