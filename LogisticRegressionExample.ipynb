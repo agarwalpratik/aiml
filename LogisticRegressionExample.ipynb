{
  "nbformat": 4,
  "nbformat_minor": 0,
  "metadata": {
    "colab": {
      "provenance": [],
      "include_colab_link": true
    },
    "kernelspec": {
      "name": "python3",
      "display_name": "Python 3"
    },
    "language_info": {
      "name": "python"
    }
  },
  "cells": [
    {
      "cell_type": "markdown",
      "metadata": {
        "id": "view-in-github",
        "colab_type": "text"
      },
      "source": [
        "<a href=\"https://colab.research.google.com/github/agarwalpratik/aiml/blob/main/LogisticRegressionExample.ipynb\" target=\"_parent\"><img src=\"https://colab.research.google.com/assets/colab-badge.svg\" alt=\"Open In Colab\"/></a>"
      ]
    },
    {
      "cell_type": "code",
      "execution_count": null,
      "metadata": {
        "id": "1xnIpz3oMy3q"
      },
      "outputs": [],
      "source": [
        "#Create a model that can predict whether the customer will make a purchase in my store\n",
        "#based on customer's age and customer's estimated salary"
      ]
    },
    {
      "cell_type": "code",
      "source": [
        "import pandas as pd\n",
        "import numpy as np"
      ],
      "metadata": {
        "id": "NxNRVzchNE0H"
      },
      "execution_count": 1,
      "outputs": []
    },
    {
      "cell_type": "code",
      "source": [
        "data = pd.read_csv(\"Social_Network_Ads.csv\")"
      ],
      "metadata": {
        "id": "GHzb2RUNNHZW"
      },
      "execution_count": 3,
      "outputs": []
    },
    {
      "cell_type": "code",
      "source": [
        "data.info()"
      ],
      "metadata": {
        "colab": {
          "base_uri": "https://localhost:8080/"
        },
        "id": "vNTot97xNJ-N",
        "outputId": "411be3cc-5968-470b-8add-c82f7bd51358"
      },
      "execution_count": 4,
      "outputs": [
        {
          "output_type": "stream",
          "name": "stdout",
          "text": [
            "<class 'pandas.core.frame.DataFrame'>\n",
            "RangeIndex: 400 entries, 0 to 399\n",
            "Data columns (total 3 columns):\n",
            " #   Column           Non-Null Count  Dtype\n",
            "---  ------           --------------  -----\n",
            " 0   Age              400 non-null    int64\n",
            " 1   EstimatedSalary  400 non-null    int64\n",
            " 2   Purchased        400 non-null    int64\n",
            "dtypes: int64(3)\n",
            "memory usage: 9.5 KB\n"
          ]
        }
      ]
    },
    {
      "cell_type": "code",
      "source": [
        "data.Purchased.unique()"
      ],
      "metadata": {
        "colab": {
          "base_uri": "https://localhost:8080/"
        },
        "id": "mugS1d6xNK4e",
        "outputId": "f9cc6fa4-07f7-4428-ad27-4e132825f11b"
      },
      "execution_count": 5,
      "outputs": [
        {
          "output_type": "execute_result",
          "data": {
            "text/plain": [
              "array([0, 1])"
            ]
          },
          "metadata": {},
          "execution_count": 5
        }
      ]
    },
    {
      "cell_type": "code",
      "source": [
        "#\n",
        "# 0--- Bad customer\n",
        "# 1--- Good customer"
      ],
      "metadata": {
        "id": "q5thDDb4NPMt"
      },
      "execution_count": null,
      "outputs": []
    },
    {
      "cell_type": "code",
      "source": [
        "#Seperate data as features and label\n",
        "features = data.iloc[:,[0,1]].values\n",
        "label = data.iloc[:,2].values"
      ],
      "metadata": {
        "id": "svdirg2tNe8N"
      },
      "execution_count": 24,
      "outputs": []
    },
    {
      "cell_type": "code",
      "source": [],
      "metadata": {
        "id": "kxELRGl8RI4R"
      },
      "execution_count": null,
      "outputs": []
    },
    {
      "cell_type": "code",
      "source": [
        "SL = 0.05\n",
        "CL = 1-SL\n",
        "\n",
        "from sklearn.model_selection import train_test_split\n",
        "from sklearn.linear_model import LogisticRegression\n",
        "\n",
        "for rs in range(1,300):\n",
        "  X_train,X_test,y_train,y_test = train_test_split(features,\n",
        "                                                   label,\n",
        "                                                   test_size=0.2,\n",
        "                                                   random_state=rs)\n",
        "\n",
        "  model = LogisticRegression()\n",
        "  model.fit(X_train,y_train)\n",
        "  trainScore = model.score(X_train,y_train)\n",
        "  testScore = model.score(X_test,y_test)\n",
        "  bestTestScore = 0\n",
        "\n",
        "  if testScore > trainScore:\n",
        "    print(f\"Test Score : {testScore} TrainScore: {trainScore} RS: {rs}\")"
      ],
      "metadata": {
        "colab": {
          "base_uri": "https://localhost:8080/"
        },
        "id": "obsxYZ1ENn9d",
        "outputId": "2bb022c8-291d-4ccd-9a36-45144c1f2b27"
      },
      "execution_count": 25,
      "outputs": [
        {
          "output_type": "stream",
          "name": "stdout",
          "text": [
            "Test Score : 0.6875 TrainScore: 0.63125 RS: 3\n",
            "Test Score : 0.7375 TrainScore: 0.61875 RS: 4\n",
            "Test Score : 0.6625 TrainScore: 0.6375 RS: 5\n",
            "Test Score : 0.65 TrainScore: 0.640625 RS: 6\n",
            "Test Score : 0.675 TrainScore: 0.634375 RS: 7\n",
            "Test Score : 0.675 TrainScore: 0.634375 RS: 8\n",
            "Test Score : 0.65 TrainScore: 0.640625 RS: 10\n",
            "Test Score : 0.6625 TrainScore: 0.6375 RS: 11\n",
            "Test Score : 0.7125 TrainScore: 0.625 RS: 13\n",
            "Test Score : 0.675 TrainScore: 0.634375 RS: 16\n",
            "Test Score : 0.7 TrainScore: 0.628125 RS: 17\n",
            "Test Score : 0.7 TrainScore: 0.628125 RS: 21\n",
            "Test Score : 0.65 TrainScore: 0.640625 RS: 24\n",
            "Test Score : 0.6625 TrainScore: 0.6375 RS: 25\n",
            "Test Score : 0.75 TrainScore: 0.615625 RS: 26\n",
            "Test Score : 0.675 TrainScore: 0.634375 RS: 27\n",
            "Test Score : 0.7 TrainScore: 0.628125 RS: 28\n",
            "Test Score : 0.6875 TrainScore: 0.63125 RS: 29\n",
            "Test Score : 0.6875 TrainScore: 0.63125 RS: 31\n",
            "Test Score : 0.6625 TrainScore: 0.6375 RS: 37\n",
            "Test Score : 0.7 TrainScore: 0.628125 RS: 39\n",
            "Test Score : 0.7 TrainScore: 0.628125 RS: 40\n",
            "Test Score : 0.65 TrainScore: 0.640625 RS: 42\n",
            "Test Score : 0.725 TrainScore: 0.621875 RS: 46\n",
            "Test Score : 0.65 TrainScore: 0.640625 RS: 48\n",
            "Test Score : 0.675 TrainScore: 0.634375 RS: 50\n",
            "Test Score : 0.65 TrainScore: 0.640625 RS: 51\n",
            "Test Score : 0.65 TrainScore: 0.640625 RS: 54\n",
            "Test Score : 0.7 TrainScore: 0.634375 RS: 55\n",
            "Test Score : 0.65 TrainScore: 0.640625 RS: 56\n",
            "Test Score : 0.6625 TrainScore: 0.6375 RS: 58\n",
            "Test Score : 0.6875 TrainScore: 0.63125 RS: 59\n",
            "Test Score : 0.7 TrainScore: 0.628125 RS: 60\n",
            "Test Score : 0.6625 TrainScore: 0.6375 RS: 62\n",
            "Test Score : 0.6875 TrainScore: 0.63125 RS: 63\n",
            "Test Score : 0.65 TrainScore: 0.640625 RS: 66\n",
            "Test Score : 0.7 TrainScore: 0.628125 RS: 70\n",
            "Test Score : 0.65 TrainScore: 0.640625 RS: 74\n",
            "Test Score : 0.65 TrainScore: 0.640625 RS: 75\n",
            "Test Score : 0.6875 TrainScore: 0.63125 RS: 76\n",
            "Test Score : 0.6875 TrainScore: 0.63125 RS: 80\n",
            "Test Score : 0.675 TrainScore: 0.634375 RS: 81\n",
            "Test Score : 0.875 TrainScore: 0.8375 RS: 82\n",
            "Test Score : 0.7 TrainScore: 0.628125 RS: 83\n",
            "Test Score : 0.675 TrainScore: 0.634375 RS: 84\n",
            "Test Score : 0.675 TrainScore: 0.634375 RS: 86\n",
            "Test Score : 0.65 TrainScore: 0.640625 RS: 87\n",
            "Test Score : 0.675 TrainScore: 0.634375 RS: 90\n",
            "Test Score : 0.65 TrainScore: 0.640625 RS: 91\n",
            "Test Score : 0.7 TrainScore: 0.628125 RS: 93\n",
            "Test Score : 0.7375 TrainScore: 0.61875 RS: 94\n",
            "Test Score : 0.65 TrainScore: 0.640625 RS: 97\n",
            "Test Score : 0.7 TrainScore: 0.628125 RS: 99\n",
            "Test Score : 0.675 TrainScore: 0.634375 RS: 101\n",
            "Test Score : 0.6625 TrainScore: 0.6375 RS: 102\n",
            "Test Score : 0.725 TrainScore: 0.621875 RS: 103\n",
            "Test Score : 0.65 TrainScore: 0.640625 RS: 106\n",
            "Test Score : 0.65 TrainScore: 0.640625 RS: 109\n",
            "Test Score : 0.75 TrainScore: 0.615625 RS: 114\n",
            "Test Score : 0.675 TrainScore: 0.634375 RS: 116\n",
            "Test Score : 0.65 TrainScore: 0.640625 RS: 117\n",
            "Test Score : 0.675 TrainScore: 0.634375 RS: 119\n",
            "Test Score : 0.65 TrainScore: 0.640625 RS: 120\n",
            "Test Score : 0.6625 TrainScore: 0.6375 RS: 121\n",
            "Test Score : 0.725 TrainScore: 0.621875 RS: 125\n",
            "Test Score : 0.65 TrainScore: 0.640625 RS: 127\n",
            "Test Score : 0.65 TrainScore: 0.640625 RS: 128\n",
            "Test Score : 0.6875 TrainScore: 0.63125 RS: 129\n",
            "Test Score : 0.6875 TrainScore: 0.63125 RS: 130\n",
            "Test Score : 0.6625 TrainScore: 0.6375 RS: 132\n",
            "Test Score : 0.6875 TrainScore: 0.63125 RS: 133\n",
            "Test Score : 0.675 TrainScore: 0.634375 RS: 134\n",
            "Test Score : 0.675 TrainScore: 0.634375 RS: 138\n",
            "Test Score : 0.7 TrainScore: 0.628125 RS: 139\n",
            "Test Score : 0.7125 TrainScore: 0.63125 RS: 141\n",
            "Test Score : 0.725 TrainScore: 0.621875 RS: 142\n",
            "Test Score : 0.6625 TrainScore: 0.6375 RS: 143\n",
            "Test Score : 0.6625 TrainScore: 0.6375 RS: 145\n",
            "Test Score : 0.7125 TrainScore: 0.625 RS: 150\n",
            "Test Score : 0.65 TrainScore: 0.640625 RS: 152\n",
            "Test Score : 0.6625 TrainScore: 0.6375 RS: 154\n",
            "Test Score : 0.675 TrainScore: 0.634375 RS: 155\n",
            "Test Score : 0.8875 TrainScore: 0.834375 RS: 158\n",
            "Test Score : 0.6625 TrainScore: 0.6375 RS: 159\n",
            "Test Score : 0.7125 TrainScore: 0.625 RS: 161\n",
            "Test Score : 0.675 TrainScore: 0.634375 RS: 162\n",
            "Test Score : 0.6625 TrainScore: 0.6375 RS: 163\n",
            "Test Score : 0.65 TrainScore: 0.640625 RS: 165\n",
            "Test Score : 0.6625 TrainScore: 0.6375 RS: 169\n",
            "Test Score : 0.675 TrainScore: 0.634375 RS: 170\n",
            "Test Score : 0.7125 TrainScore: 0.625 RS: 173\n",
            "Test Score : 0.65 TrainScore: 0.640625 RS: 176\n",
            "Test Score : 0.6625 TrainScore: 0.6375 RS: 178\n",
            "Test Score : 0.6625 TrainScore: 0.6375 RS: 179\n",
            "Test Score : 0.6625 TrainScore: 0.6375 RS: 180\n",
            "Test Score : 0.6625 TrainScore: 0.6375 RS: 181\n",
            "Test Score : 0.65 TrainScore: 0.640625 RS: 184\n",
            "Test Score : 0.6625 TrainScore: 0.6375 RS: 185\n",
            "Test Score : 0.675 TrainScore: 0.634375 RS: 188\n",
            "Test Score : 0.7375 TrainScore: 0.61875 RS: 189\n",
            "Test Score : 0.7 TrainScore: 0.628125 RS: 192\n",
            "Test Score : 0.65 TrainScore: 0.640625 RS: 193\n",
            "Test Score : 0.7 TrainScore: 0.628125 RS: 194\n",
            "Test Score : 0.65 TrainScore: 0.640625 RS: 195\n",
            "Test Score : 0.6625 TrainScore: 0.6375 RS: 196\n",
            "Test Score : 0.675 TrainScore: 0.634375 RS: 198\n",
            "Test Score : 0.8875 TrainScore: 0.8375 RS: 199\n",
            "Test Score : 0.6875 TrainScore: 0.63125 RS: 204\n",
            "Test Score : 0.6625 TrainScore: 0.6375 RS: 209\n",
            "Test Score : 0.7 TrainScore: 0.628125 RS: 211\n",
            "Test Score : 0.65 TrainScore: 0.640625 RS: 212\n",
            "Test Score : 0.6625 TrainScore: 0.6375 RS: 215\n",
            "Test Score : 0.6625 TrainScore: 0.6375 RS: 217\n",
            "Test Score : 0.6875 TrainScore: 0.63125 RS: 220\n",
            "Test Score : 0.6625 TrainScore: 0.6375 RS: 223\n",
            "Test Score : 0.6625 TrainScore: 0.6375 RS: 225\n",
            "Test Score : 0.6625 TrainScore: 0.6375 RS: 226\n",
            "Test Score : 0.6875 TrainScore: 0.63125 RS: 229\n",
            "Test Score : 0.65 TrainScore: 0.640625 RS: 232\n",
            "Test Score : 0.7125 TrainScore: 0.625 RS: 233\n",
            "Test Score : 0.6625 TrainScore: 0.6375 RS: 234\n",
            "Test Score : 0.6625 TrainScore: 0.6375 RS: 235\n",
            "Test Score : 0.6875 TrainScore: 0.63125 RS: 238\n",
            "Test Score : 0.725 TrainScore: 0.621875 RS: 239\n",
            "Test Score : 0.65 TrainScore: 0.640625 RS: 241\n",
            "Test Score : 0.725 TrainScore: 0.621875 RS: 242\n",
            "Test Score : 0.6625 TrainScore: 0.6375 RS: 244\n",
            "Test Score : 0.675 TrainScore: 0.634375 RS: 245\n",
            "Test Score : 0.6875 TrainScore: 0.63125 RS: 246\n",
            "Test Score : 0.7 TrainScore: 0.628125 RS: 247\n",
            "Test Score : 0.6875 TrainScore: 0.63125 RS: 248\n",
            "Test Score : 0.65 TrainScore: 0.640625 RS: 251\n",
            "Test Score : 0.7 TrainScore: 0.628125 RS: 252\n",
            "Test Score : 0.65 TrainScore: 0.640625 RS: 253\n",
            "Test Score : 0.675 TrainScore: 0.634375 RS: 255\n",
            "Test Score : 0.75 TrainScore: 0.615625 RS: 257\n",
            "Test Score : 0.7 TrainScore: 0.628125 RS: 260\n",
            "Test Score : 0.6625 TrainScore: 0.6375 RS: 261\n",
            "Test Score : 0.65 TrainScore: 0.640625 RS: 263\n",
            "Test Score : 0.6625 TrainScore: 0.6375 RS: 265\n",
            "Test Score : 0.8625 TrainScore: 0.840625 RS: 266\n",
            "Test Score : 0.6875 TrainScore: 0.63125 RS: 269\n",
            "Test Score : 0.6625 TrainScore: 0.6375 RS: 275\n",
            "Test Score : 0.7 TrainScore: 0.628125 RS: 276\n",
            "Test Score : 0.6625 TrainScore: 0.6375 RS: 277\n",
            "Test Score : 0.7 TrainScore: 0.628125 RS: 278\n",
            "Test Score : 0.7125 TrainScore: 0.625 RS: 279\n",
            "Test Score : 0.6875 TrainScore: 0.63125 RS: 282\n",
            "Test Score : 0.6875 TrainScore: 0.63125 RS: 283\n",
            "Test Score : 0.7125 TrainScore: 0.625 RS: 287\n",
            "Test Score : 0.6625 TrainScore: 0.6375 RS: 292\n",
            "Test Score : 0.65 TrainScore: 0.640625 RS: 293\n",
            "Test Score : 0.6625 TrainScore: 0.6375 RS: 294\n",
            "Test Score : 0.675 TrainScore: 0.634375 RS: 296\n"
          ]
        }
      ]
    },
    {
      "cell_type": "code",
      "source": [],
      "metadata": {
        "id": "ytBB2rPwOQU1"
      },
      "execution_count": null,
      "outputs": []
    },
    {
      "cell_type": "code",
      "source": [
        "#Step1: Initialize the algo\n",
        "from sklearn.linear_model import LogisticRegression\n",
        "modelAlgo = LogisticRegression()"
      ],
      "metadata": {
        "id": "2AfzZm6D2eb4"
      },
      "execution_count": 26,
      "outputs": []
    },
    {
      "cell_type": "code",
      "source": [
        "#Step2: Initialize RFE\n",
        "\n",
        "from sklearn.feature_selection import RFE\n",
        "selectFeatures = RFE(estimator=modelAlgo)"
      ],
      "metadata": {
        "id": "dfDtEsYh2qZz"
      },
      "execution_count": 27,
      "outputs": []
    },
    {
      "cell_type": "code",
      "source": [
        "#Step3: Fit the data to the RFE object\n",
        "selectFeatures.fit(features,label)"
      ],
      "metadata": {
        "colab": {
          "base_uri": "https://localhost:8080/",
          "height": 118
        },
        "id": "gygPqjrD219s",
        "outputId": "1dfae88b-3728-45b9-a3dd-2e860e32951e"
      },
      "execution_count": 28,
      "outputs": [
        {
          "output_type": "execute_result",
          "data": {
            "text/plain": [
              "RFE(estimator=LogisticRegression())"
            ],
            "text/html": [
              "<style>#sk-container-id-3 {color: black;}#sk-container-id-3 pre{padding: 0;}#sk-container-id-3 div.sk-toggleable {background-color: white;}#sk-container-id-3 label.sk-toggleable__label {cursor: pointer;display: block;width: 100%;margin-bottom: 0;padding: 0.3em;box-sizing: border-box;text-align: center;}#sk-container-id-3 label.sk-toggleable__label-arrow:before {content: \"▸\";float: left;margin-right: 0.25em;color: #696969;}#sk-container-id-3 label.sk-toggleable__label-arrow:hover:before {color: black;}#sk-container-id-3 div.sk-estimator:hover label.sk-toggleable__label-arrow:before {color: black;}#sk-container-id-3 div.sk-toggleable__content {max-height: 0;max-width: 0;overflow: hidden;text-align: left;background-color: #f0f8ff;}#sk-container-id-3 div.sk-toggleable__content pre {margin: 0.2em;color: black;border-radius: 0.25em;background-color: #f0f8ff;}#sk-container-id-3 input.sk-toggleable__control:checked~div.sk-toggleable__content {max-height: 200px;max-width: 100%;overflow: auto;}#sk-container-id-3 input.sk-toggleable__control:checked~label.sk-toggleable__label-arrow:before {content: \"▾\";}#sk-container-id-3 div.sk-estimator input.sk-toggleable__control:checked~label.sk-toggleable__label {background-color: #d4ebff;}#sk-container-id-3 div.sk-label input.sk-toggleable__control:checked~label.sk-toggleable__label {background-color: #d4ebff;}#sk-container-id-3 input.sk-hidden--visually {border: 0;clip: rect(1px 1px 1px 1px);clip: rect(1px, 1px, 1px, 1px);height: 1px;margin: -1px;overflow: hidden;padding: 0;position: absolute;width: 1px;}#sk-container-id-3 div.sk-estimator {font-family: monospace;background-color: #f0f8ff;border: 1px dotted black;border-radius: 0.25em;box-sizing: border-box;margin-bottom: 0.5em;}#sk-container-id-3 div.sk-estimator:hover {background-color: #d4ebff;}#sk-container-id-3 div.sk-parallel-item::after {content: \"\";width: 100%;border-bottom: 1px solid gray;flex-grow: 1;}#sk-container-id-3 div.sk-label:hover label.sk-toggleable__label {background-color: #d4ebff;}#sk-container-id-3 div.sk-serial::before {content: \"\";position: absolute;border-left: 1px solid gray;box-sizing: border-box;top: 0;bottom: 0;left: 50%;z-index: 0;}#sk-container-id-3 div.sk-serial {display: flex;flex-direction: column;align-items: center;background-color: white;padding-right: 0.2em;padding-left: 0.2em;position: relative;}#sk-container-id-3 div.sk-item {position: relative;z-index: 1;}#sk-container-id-3 div.sk-parallel {display: flex;align-items: stretch;justify-content: center;background-color: white;position: relative;}#sk-container-id-3 div.sk-item::before, #sk-container-id-3 div.sk-parallel-item::before {content: \"\";position: absolute;border-left: 1px solid gray;box-sizing: border-box;top: 0;bottom: 0;left: 50%;z-index: -1;}#sk-container-id-3 div.sk-parallel-item {display: flex;flex-direction: column;z-index: 1;position: relative;background-color: white;}#sk-container-id-3 div.sk-parallel-item:first-child::after {align-self: flex-end;width: 50%;}#sk-container-id-3 div.sk-parallel-item:last-child::after {align-self: flex-start;width: 50%;}#sk-container-id-3 div.sk-parallel-item:only-child::after {width: 0;}#sk-container-id-3 div.sk-dashed-wrapped {border: 1px dashed gray;margin: 0 0.4em 0.5em 0.4em;box-sizing: border-box;padding-bottom: 0.4em;background-color: white;}#sk-container-id-3 div.sk-label label {font-family: monospace;font-weight: bold;display: inline-block;line-height: 1.2em;}#sk-container-id-3 div.sk-label-container {text-align: center;}#sk-container-id-3 div.sk-container {/* jupyter's `normalize.less` sets `[hidden] { display: none; }` but bootstrap.min.css set `[hidden] { display: none !important; }` so we also need the `!important` here to be able to override the default hidden behavior on the sphinx rendered scikit-learn.org. See: https://github.com/scikit-learn/scikit-learn/issues/21755 */display: inline-block !important;position: relative;}#sk-container-id-3 div.sk-text-repr-fallback {display: none;}</style><div id=\"sk-container-id-3\" class=\"sk-top-container\"><div class=\"sk-text-repr-fallback\"><pre>RFE(estimator=LogisticRegression())</pre><b>In a Jupyter environment, please rerun this cell to show the HTML representation or trust the notebook. <br />On GitHub, the HTML representation is unable to render, please try loading this page with nbviewer.org.</b></div><div class=\"sk-container\" hidden><div class=\"sk-item sk-dashed-wrapped\"><div class=\"sk-label-container\"><div class=\"sk-label sk-toggleable\"><input class=\"sk-toggleable__control sk-hidden--visually\" id=\"sk-estimator-id-7\" type=\"checkbox\" ><label for=\"sk-estimator-id-7\" class=\"sk-toggleable__label sk-toggleable__label-arrow\">RFE</label><div class=\"sk-toggleable__content\"><pre>RFE(estimator=LogisticRegression())</pre></div></div></div><div class=\"sk-parallel\"><div class=\"sk-parallel-item\"><div class=\"sk-item\"><div class=\"sk-label-container\"><div class=\"sk-label sk-toggleable\"><input class=\"sk-toggleable__control sk-hidden--visually\" id=\"sk-estimator-id-8\" type=\"checkbox\" ><label for=\"sk-estimator-id-8\" class=\"sk-toggleable__label sk-toggleable__label-arrow\">estimator: LogisticRegression</label><div class=\"sk-toggleable__content\"><pre>LogisticRegression()</pre></div></div></div><div class=\"sk-serial\"><div class=\"sk-item\"><div class=\"sk-estimator sk-toggleable\"><input class=\"sk-toggleable__control sk-hidden--visually\" id=\"sk-estimator-id-9\" type=\"checkbox\" ><label for=\"sk-estimator-id-9\" class=\"sk-toggleable__label sk-toggleable__label-arrow\">LogisticRegression</label><div class=\"sk-toggleable__content\"><pre>LogisticRegression()</pre></div></div></div></div></div></div></div></div></div></div>"
            ]
          },
          "metadata": {},
          "execution_count": 28
        }
      ]
    },
    {
      "cell_type": "code",
      "source": [
        "#Step4: Identify the feature that has the highest ranking\n",
        "\n",
        "selectFeatures.ranking_"
      ],
      "metadata": {
        "colab": {
          "base_uri": "https://localhost:8080/"
        },
        "id": "Fpf__B7z3Iqk",
        "outputId": "92da86f2-53a5-4bd7-e2b6-89dcdaa529c3"
      },
      "execution_count": 29,
      "outputs": [
        {
          "output_type": "execute_result",
          "data": {
            "text/plain": [
              "array([2, 1])"
            ]
          },
          "metadata": {},
          "execution_count": 29
        }
      ]
    },
    {
      "cell_type": "code",
      "source": [
        "#SFM Select from Model\n",
        "# It is applicable for all algo"
      ],
      "metadata": {
        "id": "TiuNBDYc3m1W"
      },
      "execution_count": 12,
      "outputs": []
    },
    {
      "cell_type": "code",
      "source": [
        "#Step1: Initialize the algo\n",
        "from sklearn.linear_model import LogisticRegression\n",
        "modelAlgo = LogisticRegression()"
      ],
      "metadata": {
        "id": "LnBTnMj24bEN"
      },
      "execution_count": 30,
      "outputs": []
    },
    {
      "cell_type": "code",
      "source": [
        "#Step2: Initialize SelectFromModel\n",
        "\n",
        "from sklearn.feature_selection import SelectFromModel\n",
        "selectFeatures = SelectFromModel(estimator=modelAlgo)"
      ],
      "metadata": {
        "id": "VrNNPG3E4bEN"
      },
      "execution_count": 31,
      "outputs": []
    },
    {
      "cell_type": "code",
      "source": [
        "#Step3: Fit the data to the SFM object\n",
        "selectFeatures.fit(features,label)"
      ],
      "metadata": {
        "colab": {
          "base_uri": "https://localhost:8080/",
          "height": 118
        },
        "outputId": "552f7c83-4ebe-4e48-f8a6-e6ebe206a565",
        "id": "tXwXKTgi4bEN"
      },
      "execution_count": 32,
      "outputs": [
        {
          "output_type": "execute_result",
          "data": {
            "text/plain": [
              "SelectFromModel(estimator=LogisticRegression())"
            ],
            "text/html": [
              "<style>#sk-container-id-4 {color: black;}#sk-container-id-4 pre{padding: 0;}#sk-container-id-4 div.sk-toggleable {background-color: white;}#sk-container-id-4 label.sk-toggleable__label {cursor: pointer;display: block;width: 100%;margin-bottom: 0;padding: 0.3em;box-sizing: border-box;text-align: center;}#sk-container-id-4 label.sk-toggleable__label-arrow:before {content: \"▸\";float: left;margin-right: 0.25em;color: #696969;}#sk-container-id-4 label.sk-toggleable__label-arrow:hover:before {color: black;}#sk-container-id-4 div.sk-estimator:hover label.sk-toggleable__label-arrow:before {color: black;}#sk-container-id-4 div.sk-toggleable__content {max-height: 0;max-width: 0;overflow: hidden;text-align: left;background-color: #f0f8ff;}#sk-container-id-4 div.sk-toggleable__content pre {margin: 0.2em;color: black;border-radius: 0.25em;background-color: #f0f8ff;}#sk-container-id-4 input.sk-toggleable__control:checked~div.sk-toggleable__content {max-height: 200px;max-width: 100%;overflow: auto;}#sk-container-id-4 input.sk-toggleable__control:checked~label.sk-toggleable__label-arrow:before {content: \"▾\";}#sk-container-id-4 div.sk-estimator input.sk-toggleable__control:checked~label.sk-toggleable__label {background-color: #d4ebff;}#sk-container-id-4 div.sk-label input.sk-toggleable__control:checked~label.sk-toggleable__label {background-color: #d4ebff;}#sk-container-id-4 input.sk-hidden--visually {border: 0;clip: rect(1px 1px 1px 1px);clip: rect(1px, 1px, 1px, 1px);height: 1px;margin: -1px;overflow: hidden;padding: 0;position: absolute;width: 1px;}#sk-container-id-4 div.sk-estimator {font-family: monospace;background-color: #f0f8ff;border: 1px dotted black;border-radius: 0.25em;box-sizing: border-box;margin-bottom: 0.5em;}#sk-container-id-4 div.sk-estimator:hover {background-color: #d4ebff;}#sk-container-id-4 div.sk-parallel-item::after {content: \"\";width: 100%;border-bottom: 1px solid gray;flex-grow: 1;}#sk-container-id-4 div.sk-label:hover label.sk-toggleable__label {background-color: #d4ebff;}#sk-container-id-4 div.sk-serial::before {content: \"\";position: absolute;border-left: 1px solid gray;box-sizing: border-box;top: 0;bottom: 0;left: 50%;z-index: 0;}#sk-container-id-4 div.sk-serial {display: flex;flex-direction: column;align-items: center;background-color: white;padding-right: 0.2em;padding-left: 0.2em;position: relative;}#sk-container-id-4 div.sk-item {position: relative;z-index: 1;}#sk-container-id-4 div.sk-parallel {display: flex;align-items: stretch;justify-content: center;background-color: white;position: relative;}#sk-container-id-4 div.sk-item::before, #sk-container-id-4 div.sk-parallel-item::before {content: \"\";position: absolute;border-left: 1px solid gray;box-sizing: border-box;top: 0;bottom: 0;left: 50%;z-index: -1;}#sk-container-id-4 div.sk-parallel-item {display: flex;flex-direction: column;z-index: 1;position: relative;background-color: white;}#sk-container-id-4 div.sk-parallel-item:first-child::after {align-self: flex-end;width: 50%;}#sk-container-id-4 div.sk-parallel-item:last-child::after {align-self: flex-start;width: 50%;}#sk-container-id-4 div.sk-parallel-item:only-child::after {width: 0;}#sk-container-id-4 div.sk-dashed-wrapped {border: 1px dashed gray;margin: 0 0.4em 0.5em 0.4em;box-sizing: border-box;padding-bottom: 0.4em;background-color: white;}#sk-container-id-4 div.sk-label label {font-family: monospace;font-weight: bold;display: inline-block;line-height: 1.2em;}#sk-container-id-4 div.sk-label-container {text-align: center;}#sk-container-id-4 div.sk-container {/* jupyter's `normalize.less` sets `[hidden] { display: none; }` but bootstrap.min.css set `[hidden] { display: none !important; }` so we also need the `!important` here to be able to override the default hidden behavior on the sphinx rendered scikit-learn.org. See: https://github.com/scikit-learn/scikit-learn/issues/21755 */display: inline-block !important;position: relative;}#sk-container-id-4 div.sk-text-repr-fallback {display: none;}</style><div id=\"sk-container-id-4\" class=\"sk-top-container\"><div class=\"sk-text-repr-fallback\"><pre>SelectFromModel(estimator=LogisticRegression())</pre><b>In a Jupyter environment, please rerun this cell to show the HTML representation or trust the notebook. <br />On GitHub, the HTML representation is unable to render, please try loading this page with nbviewer.org.</b></div><div class=\"sk-container\" hidden><div class=\"sk-item sk-dashed-wrapped\"><div class=\"sk-label-container\"><div class=\"sk-label sk-toggleable\"><input class=\"sk-toggleable__control sk-hidden--visually\" id=\"sk-estimator-id-10\" type=\"checkbox\" ><label for=\"sk-estimator-id-10\" class=\"sk-toggleable__label sk-toggleable__label-arrow\">SelectFromModel</label><div class=\"sk-toggleable__content\"><pre>SelectFromModel(estimator=LogisticRegression())</pre></div></div></div><div class=\"sk-parallel\"><div class=\"sk-parallel-item\"><div class=\"sk-item\"><div class=\"sk-label-container\"><div class=\"sk-label sk-toggleable\"><input class=\"sk-toggleable__control sk-hidden--visually\" id=\"sk-estimator-id-11\" type=\"checkbox\" ><label for=\"sk-estimator-id-11\" class=\"sk-toggleable__label sk-toggleable__label-arrow\">estimator: LogisticRegression</label><div class=\"sk-toggleable__content\"><pre>LogisticRegression()</pre></div></div></div><div class=\"sk-serial\"><div class=\"sk-item\"><div class=\"sk-estimator sk-toggleable\"><input class=\"sk-toggleable__control sk-hidden--visually\" id=\"sk-estimator-id-12\" type=\"checkbox\" ><label for=\"sk-estimator-id-12\" class=\"sk-toggleable__label sk-toggleable__label-arrow\">LogisticRegression</label><div class=\"sk-toggleable__content\"><pre>LogisticRegression()</pre></div></div></div></div></div></div></div></div></div></div>"
            ]
          },
          "metadata": {},
          "execution_count": 32
        }
      ]
    },
    {
      "cell_type": "code",
      "source": [
        "#Step4: Identify the feature that has the highest support\n",
        "\n",
        "selectFeatures.get_support()"
      ],
      "metadata": {
        "colab": {
          "base_uri": "https://localhost:8080/"
        },
        "outputId": "3f267162-00bc-4073-e8a0-76c7d9623dbc",
        "id": "O4D0HiuH4bEN"
      },
      "execution_count": 33,
      "outputs": [
        {
          "output_type": "execute_result",
          "data": {
            "text/plain": [
              "array([False,  True])"
            ]
          },
          "metadata": {},
          "execution_count": 33
        }
      ]
    },
    {
      "cell_type": "code",
      "source": [],
      "metadata": {
        "id": "gLIMpQmSRL-G"
      },
      "execution_count": null,
      "outputs": []
    },
    {
      "cell_type": "code",
      "source": [
        "#Seperate data as features and label\n",
        "features = data.iloc[:,[1]].values\n",
        "label = data.iloc[:,2].values"
      ],
      "metadata": {
        "id": "aM_xmufoRMYm"
      },
      "execution_count": 34,
      "outputs": []
    },
    {
      "cell_type": "code",
      "source": [
        "SL = 0.05\n",
        "CL = 1-SL\n",
        "\n",
        "from sklearn.model_selection import train_test_split\n",
        "from sklearn.linear_model import LogisticRegression\n",
        "\n",
        "for rs in range(1,300):\n",
        "  X_train,X_test,y_train,y_test = train_test_split(features,\n",
        "                                                   label,\n",
        "                                                   test_size=0.2,\n",
        "                                                   random_state=rs)\n",
        "\n",
        "  model = LogisticRegression()\n",
        "  model.fit(X_train,y_train)\n",
        "  trainScore = model.score(X_train,y_train)\n",
        "  testScore = model.score(X_test,y_test)\n",
        "  bestTestScore = 0\n",
        "\n",
        "  if testScore > trainScore:\n",
        "    print(f\"Test Score : {testScore} TrainScore: {trainScore} RS: {rs}\")"
      ],
      "metadata": {
        "colab": {
          "base_uri": "https://localhost:8080/"
        },
        "outputId": "13aaea54-8f1e-49c6-9041-f8f5ccbbbab4",
        "id": "mjDfU68PRMYm"
      },
      "execution_count": 35,
      "outputs": [
        {
          "output_type": "stream",
          "name": "stdout",
          "text": [
            "Test Score : 0.6875 TrainScore: 0.63125 RS: 3\n",
            "Test Score : 0.7375 TrainScore: 0.61875 RS: 4\n",
            "Test Score : 0.6625 TrainScore: 0.6375 RS: 5\n",
            "Test Score : 0.65 TrainScore: 0.640625 RS: 6\n",
            "Test Score : 0.675 TrainScore: 0.634375 RS: 7\n",
            "Test Score : 0.675 TrainScore: 0.634375 RS: 8\n",
            "Test Score : 0.65 TrainScore: 0.640625 RS: 10\n",
            "Test Score : 0.6625 TrainScore: 0.6375 RS: 11\n",
            "Test Score : 0.7125 TrainScore: 0.625 RS: 13\n",
            "Test Score : 0.675 TrainScore: 0.634375 RS: 16\n",
            "Test Score : 0.7 TrainScore: 0.628125 RS: 17\n",
            "Test Score : 0.7 TrainScore: 0.628125 RS: 21\n",
            "Test Score : 0.875 TrainScore: 0.746875 RS: 24\n",
            "Test Score : 0.6625 TrainScore: 0.6375 RS: 25\n",
            "Test Score : 0.75 TrainScore: 0.615625 RS: 26\n",
            "Test Score : 0.675 TrainScore: 0.634375 RS: 27\n",
            "Test Score : 0.7 TrainScore: 0.628125 RS: 28\n",
            "Test Score : 0.6875 TrainScore: 0.63125 RS: 29\n",
            "Test Score : 0.6875 TrainScore: 0.63125 RS: 31\n",
            "Test Score : 0.6625 TrainScore: 0.6375 RS: 37\n",
            "Test Score : 0.7 TrainScore: 0.628125 RS: 39\n",
            "Test Score : 0.7 TrainScore: 0.628125 RS: 40\n",
            "Test Score : 0.65 TrainScore: 0.640625 RS: 42\n",
            "Test Score : 0.725 TrainScore: 0.621875 RS: 46\n",
            "Test Score : 0.65 TrainScore: 0.640625 RS: 48\n",
            "Test Score : 0.675 TrainScore: 0.634375 RS: 50\n",
            "Test Score : 0.65 TrainScore: 0.640625 RS: 51\n",
            "Test Score : 0.65 TrainScore: 0.640625 RS: 54\n",
            "Test Score : 0.7 TrainScore: 0.628125 RS: 55\n",
            "Test Score : 0.65 TrainScore: 0.640625 RS: 56\n",
            "Test Score : 0.6625 TrainScore: 0.6375 RS: 58\n",
            "Test Score : 0.6875 TrainScore: 0.63125 RS: 59\n",
            "Test Score : 0.7 TrainScore: 0.628125 RS: 60\n",
            "Test Score : 0.6625 TrainScore: 0.6375 RS: 62\n",
            "Test Score : 0.6875 TrainScore: 0.63125 RS: 63\n",
            "Test Score : 0.65 TrainScore: 0.640625 RS: 66\n",
            "Test Score : 0.7 TrainScore: 0.628125 RS: 70\n",
            "Test Score : 0.65 TrainScore: 0.640625 RS: 74\n",
            "Test Score : 0.65 TrainScore: 0.640625 RS: 75\n",
            "Test Score : 0.6875 TrainScore: 0.63125 RS: 76\n",
            "Test Score : 0.7875 TrainScore: 0.76875 RS: 79\n",
            "Test Score : 0.6875 TrainScore: 0.63125 RS: 80\n",
            "Test Score : 0.675 TrainScore: 0.634375 RS: 81\n",
            "Test Score : 0.7 TrainScore: 0.628125 RS: 83\n",
            "Test Score : 0.675 TrainScore: 0.634375 RS: 84\n",
            "Test Score : 0.675 TrainScore: 0.634375 RS: 86\n",
            "Test Score : 0.65 TrainScore: 0.640625 RS: 87\n",
            "Test Score : 0.675 TrainScore: 0.634375 RS: 90\n",
            "Test Score : 0.65 TrainScore: 0.640625 RS: 91\n",
            "Test Score : 0.7 TrainScore: 0.628125 RS: 93\n",
            "Test Score : 0.7375 TrainScore: 0.61875 RS: 94\n",
            "Test Score : 0.8 TrainScore: 0.765625 RS: 95\n",
            "Test Score : 0.65 TrainScore: 0.640625 RS: 97\n",
            "Test Score : 0.7 TrainScore: 0.628125 RS: 99\n",
            "Test Score : 0.675 TrainScore: 0.634375 RS: 101\n",
            "Test Score : 0.6625 TrainScore: 0.6375 RS: 102\n",
            "Test Score : 0.725 TrainScore: 0.621875 RS: 103\n",
            "Test Score : 0.65 TrainScore: 0.640625 RS: 106\n",
            "Test Score : 0.65 TrainScore: 0.640625 RS: 109\n",
            "Test Score : 0.75 TrainScore: 0.615625 RS: 114\n",
            "Test Score : 0.675 TrainScore: 0.634375 RS: 116\n",
            "Test Score : 0.65 TrainScore: 0.640625 RS: 117\n",
            "Test Score : 0.675 TrainScore: 0.634375 RS: 119\n",
            "Test Score : 0.65 TrainScore: 0.640625 RS: 120\n",
            "Test Score : 0.6625 TrainScore: 0.6375 RS: 121\n",
            "Test Score : 0.725 TrainScore: 0.621875 RS: 125\n",
            "Test Score : 0.65 TrainScore: 0.640625 RS: 127\n",
            "Test Score : 0.65 TrainScore: 0.640625 RS: 128\n",
            "Test Score : 0.6875 TrainScore: 0.63125 RS: 129\n",
            "Test Score : 0.6875 TrainScore: 0.63125 RS: 130\n",
            "Test Score : 0.6625 TrainScore: 0.6375 RS: 132\n",
            "Test Score : 0.6875 TrainScore: 0.63125 RS: 133\n",
            "Test Score : 0.675 TrainScore: 0.634375 RS: 134\n",
            "Test Score : 0.675 TrainScore: 0.634375 RS: 138\n",
            "Test Score : 0.7 TrainScore: 0.628125 RS: 139\n",
            "Test Score : 0.7125 TrainScore: 0.625 RS: 141\n",
            "Test Score : 0.725 TrainScore: 0.621875 RS: 142\n",
            "Test Score : 0.6625 TrainScore: 0.6375 RS: 143\n",
            "Test Score : 0.6625 TrainScore: 0.6375 RS: 145\n",
            "Test Score : 0.7125 TrainScore: 0.625 RS: 150\n",
            "Test Score : 0.65 TrainScore: 0.640625 RS: 152\n",
            "Test Score : 0.6625 TrainScore: 0.6375 RS: 154\n",
            "Test Score : 0.675 TrainScore: 0.634375 RS: 155\n",
            "Test Score : 0.6625 TrainScore: 0.6375 RS: 159\n",
            "Test Score : 0.7125 TrainScore: 0.625 RS: 161\n",
            "Test Score : 0.675 TrainScore: 0.634375 RS: 162\n",
            "Test Score : 0.6625 TrainScore: 0.6375 RS: 163\n",
            "Test Score : 0.65 TrainScore: 0.640625 RS: 165\n",
            "Test Score : 0.6625 TrainScore: 0.6375 RS: 169\n",
            "Test Score : 0.675 TrainScore: 0.634375 RS: 170\n",
            "Test Score : 0.7125 TrainScore: 0.625 RS: 173\n",
            "Test Score : 0.65 TrainScore: 0.640625 RS: 176\n",
            "Test Score : 0.6625 TrainScore: 0.6375 RS: 178\n",
            "Test Score : 0.6625 TrainScore: 0.6375 RS: 179\n",
            "Test Score : 0.6625 TrainScore: 0.6375 RS: 180\n",
            "Test Score : 0.6625 TrainScore: 0.6375 RS: 181\n",
            "Test Score : 0.775 TrainScore: 0.771875 RS: 183\n",
            "Test Score : 0.65 TrainScore: 0.640625 RS: 184\n",
            "Test Score : 0.6625 TrainScore: 0.6375 RS: 185\n",
            "Test Score : 0.775 TrainScore: 0.7625 RS: 187\n",
            "Test Score : 0.675 TrainScore: 0.634375 RS: 188\n",
            "Test Score : 0.7375 TrainScore: 0.61875 RS: 189\n",
            "Test Score : 0.7 TrainScore: 0.628125 RS: 192\n",
            "Test Score : 0.65 TrainScore: 0.640625 RS: 193\n",
            "Test Score : 0.7 TrainScore: 0.628125 RS: 194\n",
            "Test Score : 0.65 TrainScore: 0.640625 RS: 195\n",
            "Test Score : 0.6625 TrainScore: 0.6375 RS: 196\n",
            "Test Score : 0.675 TrainScore: 0.634375 RS: 198\n",
            "Test Score : 0.8375 TrainScore: 0.759375 RS: 199\n",
            "Test Score : 0.8 TrainScore: 0.76875 RS: 202\n",
            "Test Score : 0.6875 TrainScore: 0.63125 RS: 204\n",
            "Test Score : 0.6625 TrainScore: 0.6375 RS: 209\n",
            "Test Score : 0.7 TrainScore: 0.628125 RS: 211\n",
            "Test Score : 0.65 TrainScore: 0.640625 RS: 212\n",
            "Test Score : 0.6625 TrainScore: 0.6375 RS: 215\n",
            "Test Score : 0.6625 TrainScore: 0.6375 RS: 217\n",
            "Test Score : 0.65 TrainScore: 0.640625 RS: 218\n",
            "Test Score : 0.6875 TrainScore: 0.63125 RS: 220\n",
            "Test Score : 0.6625 TrainScore: 0.6375 RS: 223\n",
            "Test Score : 0.6625 TrainScore: 0.6375 RS: 225\n",
            "Test Score : 0.6625 TrainScore: 0.6375 RS: 226\n",
            "Test Score : 0.6875 TrainScore: 0.63125 RS: 228\n",
            "Test Score : 0.6875 TrainScore: 0.63125 RS: 229\n",
            "Test Score : 0.65 TrainScore: 0.640625 RS: 232\n",
            "Test Score : 0.7125 TrainScore: 0.625 RS: 233\n",
            "Test Score : 0.6625 TrainScore: 0.6375 RS: 234\n",
            "Test Score : 0.6625 TrainScore: 0.6375 RS: 235\n",
            "Test Score : 0.6875 TrainScore: 0.63125 RS: 238\n",
            "Test Score : 0.725 TrainScore: 0.621875 RS: 239\n",
            "Test Score : 0.65 TrainScore: 0.640625 RS: 241\n",
            "Test Score : 0.725 TrainScore: 0.621875 RS: 242\n",
            "Test Score : 0.6625 TrainScore: 0.6375 RS: 244\n",
            "Test Score : 0.675 TrainScore: 0.634375 RS: 245\n",
            "Test Score : 0.6875 TrainScore: 0.63125 RS: 246\n",
            "Test Score : 0.7 TrainScore: 0.628125 RS: 247\n",
            "Test Score : 0.6875 TrainScore: 0.63125 RS: 248\n",
            "Test Score : 0.65 TrainScore: 0.640625 RS: 251\n",
            "Test Score : 0.7 TrainScore: 0.628125 RS: 252\n",
            "Test Score : 0.65 TrainScore: 0.640625 RS: 253\n",
            "Test Score : 0.6625 TrainScore: 0.6375 RS: 254\n",
            "Test Score : 0.675 TrainScore: 0.634375 RS: 255\n",
            "Test Score : 0.75 TrainScore: 0.615625 RS: 257\n",
            "Test Score : 0.7 TrainScore: 0.628125 RS: 260\n",
            "Test Score : 0.6625 TrainScore: 0.6375 RS: 261\n",
            "Test Score : 0.65 TrainScore: 0.640625 RS: 263\n",
            "Test Score : 0.6625 TrainScore: 0.6375 RS: 265\n",
            "Test Score : 0.6875 TrainScore: 0.63125 RS: 269\n",
            "Test Score : 0.8375 TrainScore: 0.75625 RS: 272\n",
            "Test Score : 0.6625 TrainScore: 0.6375 RS: 275\n",
            "Test Score : 0.7 TrainScore: 0.628125 RS: 276\n",
            "Test Score : 0.6625 TrainScore: 0.6375 RS: 277\n",
            "Test Score : 0.7 TrainScore: 0.628125 RS: 278\n",
            "Test Score : 0.7125 TrainScore: 0.625 RS: 279\n",
            "Test Score : 0.6875 TrainScore: 0.63125 RS: 282\n",
            "Test Score : 0.6875 TrainScore: 0.63125 RS: 283\n",
            "Test Score : 0.7125 TrainScore: 0.625 RS: 287\n",
            "Test Score : 0.6625 TrainScore: 0.6375 RS: 292\n",
            "Test Score : 0.65 TrainScore: 0.640625 RS: 293\n",
            "Test Score : 0.6625 TrainScore: 0.6375 RS: 294\n",
            "Test Score : 0.675 TrainScore: 0.634375 RS: 296\n"
          ]
        }
      ]
    },
    {
      "cell_type": "code",
      "source": [],
      "metadata": {
        "id": "ePzR4E28TMsC"
      },
      "execution_count": null,
      "outputs": []
    }
  ]
}