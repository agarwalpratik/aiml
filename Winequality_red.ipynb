{
  "nbformat": 4,
  "nbformat_minor": 0,
  "metadata": {
    "colab": {
      "provenance": [],
      "authorship_tag": "ABX9TyOJ66FURbBKdWZHc81GFUJz",
      "include_colab_link": true
    },
    "kernelspec": {
      "name": "python3",
      "display_name": "Python 3"
    },
    "language_info": {
      "name": "python"
    }
  },
  "cells": [
    {
      "cell_type": "markdown",
      "metadata": {
        "id": "view-in-github",
        "colab_type": "text"
      },
      "source": [
        "<a href=\"https://colab.research.google.com/github/agarwalpratik/aiml/blob/main/Winequality_red.ipynb\" target=\"_parent\"><img src=\"https://colab.research.google.com/assets/colab-badge.svg\" alt=\"Open In Colab\"/></a>"
      ]
    },
    {
      "cell_type": "code",
      "execution_count": 1,
      "metadata": {
        "id": "_QvTo0B2W35r"
      },
      "outputs": [],
      "source": [
        "import pandas as pd\n",
        "import numpy as np\n",
        "data = pd.read_csv('winequality-red.csv')"
      ]
    },
    {
      "cell_type": "code",
      "source": [
        "data.info()"
      ],
      "metadata": {
        "colab": {
          "base_uri": "https://localhost:8080/"
        },
        "id": "ALBrzy0fXF_R",
        "outputId": "07e5f950-70d8-44b7-c696-9e141d9ea101"
      },
      "execution_count": 2,
      "outputs": [
        {
          "output_type": "stream",
          "name": "stdout",
          "text": [
            "<class 'pandas.core.frame.DataFrame'>\n",
            "RangeIndex: 1599 entries, 0 to 1598\n",
            "Data columns (total 12 columns):\n",
            " #   Column                Non-Null Count  Dtype  \n",
            "---  ------                --------------  -----  \n",
            " 0   fixed acidity         1599 non-null   float64\n",
            " 1   volatile acidity      1599 non-null   float64\n",
            " 2   citric acid           1599 non-null   float64\n",
            " 3   residual sugar        1599 non-null   float64\n",
            " 4   chlorides             1599 non-null   float64\n",
            " 5   free sulfur dioxide   1599 non-null   float64\n",
            " 6   total sulfur dioxide  1599 non-null   float64\n",
            " 7   density               1599 non-null   float64\n",
            " 8   pH                    1599 non-null   float64\n",
            " 9   sulphates             1599 non-null   float64\n",
            " 10  alcohol               1599 non-null   float64\n",
            " 11  quality               1599 non-null   int64  \n",
            "dtypes: float64(11), int64(1)\n",
            "memory usage: 150.0 KB\n"
          ]
        }
      ]
    },
    {
      "cell_type": "code",
      "source": [
        "data.quality.unique()"
      ],
      "metadata": {
        "colab": {
          "base_uri": "https://localhost:8080/"
        },
        "id": "8zbSWk58YNS4",
        "outputId": "3a2f330f-f470-4c09-8922-b74a89e0d991"
      },
      "execution_count": 9,
      "outputs": [
        {
          "output_type": "execute_result",
          "data": {
            "text/plain": [
              "array([5, 6, 7, 4, 8, 3])"
            ]
          },
          "metadata": {},
          "execution_count": 9
        }
      ]
    },
    {
      "cell_type": "code",
      "source": [
        "features = data.iloc[:,[0,1,2,3,4,5,6,7,8,9,10]].values\n",
        "label = data.iloc[:,11].values"
      ],
      "metadata": {
        "id": "c442ef5OXRzc"
      },
      "execution_count": 3,
      "outputs": []
    },
    {
      "cell_type": "code",
      "source": [
        "SL = 0.05\n",
        "CL = 1-SL\n",
        "\n",
        "from sklearn.model_selection import train_test_split\n",
        "from sklearn.linear_model import LogisticRegression\n",
        "import warnings\n",
        "warnings.filterwarnings(\"ignore\")\n",
        "\n",
        "for rs in range(1,300):\n",
        "  X_train,X_test,y_train,y_test = train_test_split(features,\n",
        "                                                   label,\n",
        "                                                   test_size=0.2,\n",
        "                                                   random_state=rs)\n",
        "\n",
        "  model = LogisticRegression()\n",
        "  model.fit(X_train,y_train)\n",
        "  trainScore = model.score(X_train,y_train)\n",
        "  testScore = model.score(X_test,y_test)\n",
        "  bestTestScore = 0\n",
        "\n",
        "  if testScore > trainScore:\n",
        "    print(f\"Test Score : {testScore} TrainScore: {trainScore} RS: {rs}\")"
      ],
      "metadata": {
        "colab": {
          "base_uri": "https://localhost:8080/"
        },
        "id": "yCZRsa4MXknQ",
        "outputId": "03c0609c-c186-484f-ce27-619078d28525"
      },
      "execution_count": 10,
      "outputs": [
        {
          "output_type": "stream",
          "name": "stdout",
          "text": [
            "Test Score : 0.609375 TrainScore: 0.5723221266614542 RS: 1\n",
            "Test Score : 0.584375 TrainScore: 0.5785770132916341 RS: 2\n",
            "Test Score : 0.6 TrainScore: 0.5801407349491791 RS: 3\n",
            "Test Score : 0.625 TrainScore: 0.5809225957779516 RS: 5\n",
            "Test Score : 0.6 TrainScore: 0.584831899921814 RS: 6\n",
            "Test Score : 0.603125 TrainScore: 0.581704456606724 RS: 16\n",
            "Test Score : 0.63125 TrainScore: 0.5824863174354965 RS: 17\n",
            "Test Score : 0.603125 TrainScore: 0.5785770132916341 RS: 22\n",
            "Test Score : 0.60625 TrainScore: 0.5754495699765442 RS: 23\n",
            "Test Score : 0.61875 TrainScore: 0.5746677091477717 RS: 25\n",
            "Test Score : 0.6125 TrainScore: 0.5777951524628616 RS: 26\n",
            "Test Score : 0.6125 TrainScore: 0.5785770132916341 RS: 27\n",
            "Test Score : 0.6125 TrainScore: 0.5746677091477717 RS: 29\n",
            "Test Score : 0.59375 TrainScore: 0.5809225957779516 RS: 30\n",
            "Test Score : 0.625 TrainScore: 0.5824863174354965 RS: 31\n",
            "Test Score : 0.615625 TrainScore: 0.581704456606724 RS: 37\n",
            "Test Score : 0.628125 TrainScore: 0.5699765441751369 RS: 38\n",
            "Test Score : 0.5875 TrainScore: 0.5777951524628616 RS: 40\n",
            "Test Score : 0.60625 TrainScore: 0.5793588741204065 RS: 43\n",
            "Test Score : 0.603125 TrainScore: 0.5863956215793589 RS: 44\n",
            "Test Score : 0.63125 TrainScore: 0.5746677091477717 RS: 45\n",
            "Test Score : 0.615625 TrainScore: 0.5785770132916341 RS: 48\n",
            "Test Score : 0.590625 TrainScore: 0.5809225957779516 RS: 50\n",
            "Test Score : 0.584375 TrainScore: 0.5832681782642689 RS: 59\n",
            "Test Score : 0.59375 TrainScore: 0.5879593432369038 RS: 60\n",
            "Test Score : 0.6 TrainScore: 0.5840500390930414 RS: 61\n",
            "Test Score : 0.603125 TrainScore: 0.5793588741204065 RS: 62\n",
            "Test Score : 0.584375 TrainScore: 0.5840500390930414 RS: 63\n",
            "Test Score : 0.596875 TrainScore: 0.584831899921814 RS: 68\n",
            "Test Score : 0.59375 TrainScore: 0.5824863174354965 RS: 72\n",
            "Test Score : 0.6125 TrainScore: 0.5785770132916341 RS: 73\n",
            "Test Score : 0.6 TrainScore: 0.5777951524628616 RS: 76\n",
            "Test Score : 0.590625 TrainScore: 0.5777951524628616 RS: 80\n",
            "Test Score : 0.6 TrainScore: 0.5723221266614542 RS: 83\n",
            "Test Score : 0.625 TrainScore: 0.5746677091477717 RS: 84\n",
            "Test Score : 0.6125 TrainScore: 0.581704456606724 RS: 86\n",
            "Test Score : 0.590625 TrainScore: 0.5887412040656763 RS: 87\n",
            "Test Score : 0.59375 TrainScore: 0.5809225957779516 RS: 92\n",
            "Test Score : 0.609375 TrainScore: 0.5785770132916341 RS: 93\n",
            "Test Score : 0.596875 TrainScore: 0.5809225957779516 RS: 94\n",
            "Test Score : 0.590625 TrainScore: 0.5879593432369038 RS: 96\n",
            "Test Score : 0.59375 TrainScore: 0.5840500390930414 RS: 99\n",
            "Test Score : 0.609375 TrainScore: 0.5707584050039093 RS: 100\n",
            "Test Score : 0.584375 TrainScore: 0.5809225957779516 RS: 103\n",
            "Test Score : 0.634375 TrainScore: 0.5801407349491791 RS: 104\n",
            "Test Score : 0.603125 TrainScore: 0.5801407349491791 RS: 109\n",
            "Test Score : 0.609375 TrainScore: 0.5801407349491791 RS: 110\n",
            "Test Score : 0.60625 TrainScore: 0.5777951524628616 RS: 112\n",
            "Test Score : 0.60625 TrainScore: 0.5801407349491791 RS: 113\n",
            "Test Score : 0.6 TrainScore: 0.581704456606724 RS: 115\n",
            "Test Score : 0.60625 TrainScore: 0.5723221266614542 RS: 116\n",
            "Test Score : 0.603125 TrainScore: 0.5793588741204065 RS: 118\n",
            "Test Score : 0.59375 TrainScore: 0.581704456606724 RS: 122\n",
            "Test Score : 0.603125 TrainScore: 0.5824863174354965 RS: 124\n",
            "Test Score : 0.61875 TrainScore: 0.5770132916340891 RS: 126\n",
            "Test Score : 0.5875 TrainScore: 0.5801407349491791 RS: 127\n",
            "Test Score : 0.590625 TrainScore: 0.5832681782642689 RS: 128\n",
            "Test Score : 0.60625 TrainScore: 0.5793588741204065 RS: 130\n",
            "Test Score : 0.590625 TrainScore: 0.5863956215793589 RS: 135\n",
            "Test Score : 0.584375 TrainScore: 0.5801407349491791 RS: 136\n",
            "Test Score : 0.596875 TrainScore: 0.5809225957779516 RS: 137\n",
            "Test Score : 0.609375 TrainScore: 0.5801407349491791 RS: 138\n",
            "Test Score : 0.609375 TrainScore: 0.5824863174354965 RS: 139\n",
            "Test Score : 0.584375 TrainScore: 0.5731039874902267 RS: 147\n",
            "Test Score : 0.625 TrainScore: 0.5699765441751369 RS: 152\n",
            "Test Score : 0.59375 TrainScore: 0.5785770132916341 RS: 154\n",
            "Test Score : 0.590625 TrainScore: 0.581704456606724 RS: 156\n",
            "Test Score : 0.603125 TrainScore: 0.5762314308053167 RS: 158\n",
            "Test Score : 0.5875 TrainScore: 0.5832681782642689 RS: 161\n",
            "Test Score : 0.6 TrainScore: 0.581704456606724 RS: 163\n",
            "Test Score : 0.5875 TrainScore: 0.5746677091477717 RS: 164\n",
            "Test Score : 0.596875 TrainScore: 0.584831899921814 RS: 165\n",
            "Test Score : 0.590625 TrainScore: 0.5785770132916341 RS: 166\n",
            "Test Score : 0.615625 TrainScore: 0.5770132916340891 RS: 170\n",
            "Test Score : 0.621875 TrainScore: 0.5832681782642689 RS: 172\n",
            "Test Score : 0.590625 TrainScore: 0.5903049257232212 RS: 174\n",
            "Test Score : 0.60625 TrainScore: 0.5840500390930414 RS: 175\n",
            "Test Score : 0.5875 TrainScore: 0.5832681782642689 RS: 177\n",
            "Test Score : 0.621875 TrainScore: 0.584831899921814 RS: 181\n",
            "Test Score : 0.5875 TrainScore: 0.5863956215793589 RS: 184\n",
            "Test Score : 0.609375 TrainScore: 0.584831899921814 RS: 185\n",
            "Test Score : 0.609375 TrainScore: 0.581704456606724 RS: 188\n",
            "Test Score : 0.58125 TrainScore: 0.5777951524628616 RS: 190\n",
            "Test Score : 0.603125 TrainScore: 0.5879593432369038 RS: 191\n",
            "Test Score : 0.615625 TrainScore: 0.5832681782642689 RS: 193\n",
            "Test Score : 0.64375 TrainScore: 0.5699765441751369 RS: 200\n",
            "Test Score : 0.584375 TrainScore: 0.5824863174354965 RS: 202\n",
            "Test Score : 0.6 TrainScore: 0.5754495699765442 RS: 203\n",
            "Test Score : 0.59375 TrainScore: 0.5715402658326818 RS: 206\n",
            "Test Score : 0.5875 TrainScore: 0.581704456606724 RS: 209\n",
            "Test Score : 0.59375 TrainScore: 0.5856137607505864 RS: 211\n",
            "Test Score : 0.5875 TrainScore: 0.584831899921814 RS: 212\n",
            "Test Score : 0.6 TrainScore: 0.5746677091477717 RS: 214\n",
            "Test Score : 0.6 TrainScore: 0.5856137607505864 RS: 215\n",
            "Test Score : 0.609375 TrainScore: 0.5809225957779516 RS: 225\n",
            "Test Score : 0.609375 TrainScore: 0.5770132916340891 RS: 226\n",
            "Test Score : 0.6 TrainScore: 0.5801407349491791 RS: 228\n",
            "Test Score : 0.60625 TrainScore: 0.5824863174354965 RS: 237\n",
            "Test Score : 0.6125 TrainScore: 0.5793588741204065 RS: 238\n",
            "Test Score : 0.603125 TrainScore: 0.5809225957779516 RS: 239\n",
            "Test Score : 0.603125 TrainScore: 0.5863956215793589 RS: 240\n",
            "Test Score : 0.590625 TrainScore: 0.5832681782642689 RS: 241\n",
            "Test Score : 0.59375 TrainScore: 0.5871774824081314 RS: 245\n",
            "Test Score : 0.596875 TrainScore: 0.5754495699765442 RS: 246\n",
            "Test Score : 0.596875 TrainScore: 0.5723221266614542 RS: 247\n",
            "Test Score : 0.60625 TrainScore: 0.5824863174354965 RS: 252\n",
            "Test Score : 0.59375 TrainScore: 0.584831899921814 RS: 254\n",
            "Test Score : 0.590625 TrainScore: 0.5895230648944488 RS: 255\n",
            "Test Score : 0.59375 TrainScore: 0.5832681782642689 RS: 256\n",
            "Test Score : 0.590625 TrainScore: 0.5879593432369038 RS: 257\n",
            "Test Score : 0.5875 TrainScore: 0.5801407349491791 RS: 259\n",
            "Test Score : 0.58125 TrainScore: 0.5809225957779516 RS: 260\n",
            "Test Score : 0.609375 TrainScore: 0.5691946833463644 RS: 261\n",
            "Test Score : 0.578125 TrainScore: 0.5762314308053167 RS: 263\n",
            "Test Score : 0.590625 TrainScore: 0.5770132916340891 RS: 264\n",
            "Test Score : 0.6375 TrainScore: 0.5785770132916341 RS: 266\n",
            "Test Score : 0.59375 TrainScore: 0.5801407349491791 RS: 270\n",
            "Test Score : 0.61875 TrainScore: 0.5824863174354965 RS: 271\n",
            "Test Score : 0.590625 TrainScore: 0.5863956215793589 RS: 272\n",
            "Test Score : 0.6 TrainScore: 0.5793588741204065 RS: 275\n",
            "Test Score : 0.603125 TrainScore: 0.5887412040656763 RS: 276\n",
            "Test Score : 0.609375 TrainScore: 0.5824863174354965 RS: 279\n",
            "Test Score : 0.59375 TrainScore: 0.5754495699765442 RS: 280\n",
            "Test Score : 0.5875 TrainScore: 0.5856137607505864 RS: 282\n",
            "Test Score : 0.63125 TrainScore: 0.581704456606724 RS: 283\n",
            "Test Score : 0.59375 TrainScore: 0.5824863174354965 RS: 284\n",
            "Test Score : 0.665625 TrainScore: 0.5660672400312744 RS: 285\n",
            "Test Score : 0.59375 TrainScore: 0.5887412040656763 RS: 286\n",
            "Test Score : 0.609375 TrainScore: 0.581704456606724 RS: 295\n",
            "Test Score : 0.609375 TrainScore: 0.5863956215793589 RS: 298\n",
            "Test Score : 0.590625 TrainScore: 0.5793588741204065 RS: 299\n"
          ]
        }
      ]
    },
    {
      "cell_type": "code",
      "source": [],
      "metadata": {
        "id": "MiSiGamtX5iq"
      },
      "execution_count": null,
      "outputs": []
    },
    {
      "cell_type": "code",
      "source": [
        "#Step1: Initialize the algo\n",
        "from sklearn.linear_model import LogisticRegression\n",
        "modelAlgo = LogisticRegression()"
      ],
      "metadata": {
        "id": "2AfzZm6D2eb4"
      },
      "execution_count": 11,
      "outputs": []
    },
    {
      "cell_type": "code",
      "source": [
        "#Step2: Initialize RFE\n",
        "\n",
        "from sklearn.feature_selection import RFE\n",
        "selectFeatures = RFE(estimator=modelAlgo)"
      ],
      "metadata": {
        "id": "dfDtEsYh2qZz"
      },
      "execution_count": 12,
      "outputs": []
    },
    {
      "cell_type": "code",
      "source": [
        "#Step3: Fit the data to the RFE object\n",
        "selectFeatures.fit(features,label)"
      ],
      "metadata": {
        "colab": {
          "base_uri": "https://localhost:8080/",
          "height": 118
        },
        "id": "gygPqjrD219s",
        "outputId": "f6fd7401-1528-4982-cffc-82d433560996"
      },
      "execution_count": 13,
      "outputs": [
        {
          "output_type": "execute_result",
          "data": {
            "text/plain": [
              "RFE(estimator=LogisticRegression())"
            ],
            "text/html": [
              "<style>#sk-container-id-2 {color: black;}#sk-container-id-2 pre{padding: 0;}#sk-container-id-2 div.sk-toggleable {background-color: white;}#sk-container-id-2 label.sk-toggleable__label {cursor: pointer;display: block;width: 100%;margin-bottom: 0;padding: 0.3em;box-sizing: border-box;text-align: center;}#sk-container-id-2 label.sk-toggleable__label-arrow:before {content: \"▸\";float: left;margin-right: 0.25em;color: #696969;}#sk-container-id-2 label.sk-toggleable__label-arrow:hover:before {color: black;}#sk-container-id-2 div.sk-estimator:hover label.sk-toggleable__label-arrow:before {color: black;}#sk-container-id-2 div.sk-toggleable__content {max-height: 0;max-width: 0;overflow: hidden;text-align: left;background-color: #f0f8ff;}#sk-container-id-2 div.sk-toggleable__content pre {margin: 0.2em;color: black;border-radius: 0.25em;background-color: #f0f8ff;}#sk-container-id-2 input.sk-toggleable__control:checked~div.sk-toggleable__content {max-height: 200px;max-width: 100%;overflow: auto;}#sk-container-id-2 input.sk-toggleable__control:checked~label.sk-toggleable__label-arrow:before {content: \"▾\";}#sk-container-id-2 div.sk-estimator input.sk-toggleable__control:checked~label.sk-toggleable__label {background-color: #d4ebff;}#sk-container-id-2 div.sk-label input.sk-toggleable__control:checked~label.sk-toggleable__label {background-color: #d4ebff;}#sk-container-id-2 input.sk-hidden--visually {border: 0;clip: rect(1px 1px 1px 1px);clip: rect(1px, 1px, 1px, 1px);height: 1px;margin: -1px;overflow: hidden;padding: 0;position: absolute;width: 1px;}#sk-container-id-2 div.sk-estimator {font-family: monospace;background-color: #f0f8ff;border: 1px dotted black;border-radius: 0.25em;box-sizing: border-box;margin-bottom: 0.5em;}#sk-container-id-2 div.sk-estimator:hover {background-color: #d4ebff;}#sk-container-id-2 div.sk-parallel-item::after {content: \"\";width: 100%;border-bottom: 1px solid gray;flex-grow: 1;}#sk-container-id-2 div.sk-label:hover label.sk-toggleable__label {background-color: #d4ebff;}#sk-container-id-2 div.sk-serial::before {content: \"\";position: absolute;border-left: 1px solid gray;box-sizing: border-box;top: 0;bottom: 0;left: 50%;z-index: 0;}#sk-container-id-2 div.sk-serial {display: flex;flex-direction: column;align-items: center;background-color: white;padding-right: 0.2em;padding-left: 0.2em;position: relative;}#sk-container-id-2 div.sk-item {position: relative;z-index: 1;}#sk-container-id-2 div.sk-parallel {display: flex;align-items: stretch;justify-content: center;background-color: white;position: relative;}#sk-container-id-2 div.sk-item::before, #sk-container-id-2 div.sk-parallel-item::before {content: \"\";position: absolute;border-left: 1px solid gray;box-sizing: border-box;top: 0;bottom: 0;left: 50%;z-index: -1;}#sk-container-id-2 div.sk-parallel-item {display: flex;flex-direction: column;z-index: 1;position: relative;background-color: white;}#sk-container-id-2 div.sk-parallel-item:first-child::after {align-self: flex-end;width: 50%;}#sk-container-id-2 div.sk-parallel-item:last-child::after {align-self: flex-start;width: 50%;}#sk-container-id-2 div.sk-parallel-item:only-child::after {width: 0;}#sk-container-id-2 div.sk-dashed-wrapped {border: 1px dashed gray;margin: 0 0.4em 0.5em 0.4em;box-sizing: border-box;padding-bottom: 0.4em;background-color: white;}#sk-container-id-2 div.sk-label label {font-family: monospace;font-weight: bold;display: inline-block;line-height: 1.2em;}#sk-container-id-2 div.sk-label-container {text-align: center;}#sk-container-id-2 div.sk-container {/* jupyter's `normalize.less` sets `[hidden] { display: none; }` but bootstrap.min.css set `[hidden] { display: none !important; }` so we also need the `!important` here to be able to override the default hidden behavior on the sphinx rendered scikit-learn.org. See: https://github.com/scikit-learn/scikit-learn/issues/21755 */display: inline-block !important;position: relative;}#sk-container-id-2 div.sk-text-repr-fallback {display: none;}</style><div id=\"sk-container-id-2\" class=\"sk-top-container\"><div class=\"sk-text-repr-fallback\"><pre>RFE(estimator=LogisticRegression())</pre><b>In a Jupyter environment, please rerun this cell to show the HTML representation or trust the notebook. <br />On GitHub, the HTML representation is unable to render, please try loading this page with nbviewer.org.</b></div><div class=\"sk-container\" hidden><div class=\"sk-item sk-dashed-wrapped\"><div class=\"sk-label-container\"><div class=\"sk-label sk-toggleable\"><input class=\"sk-toggleable__control sk-hidden--visually\" id=\"sk-estimator-id-4\" type=\"checkbox\" ><label for=\"sk-estimator-id-4\" class=\"sk-toggleable__label sk-toggleable__label-arrow\">RFE</label><div class=\"sk-toggleable__content\"><pre>RFE(estimator=LogisticRegression())</pre></div></div></div><div class=\"sk-parallel\"><div class=\"sk-parallel-item\"><div class=\"sk-item\"><div class=\"sk-label-container\"><div class=\"sk-label sk-toggleable\"><input class=\"sk-toggleable__control sk-hidden--visually\" id=\"sk-estimator-id-5\" type=\"checkbox\" ><label for=\"sk-estimator-id-5\" class=\"sk-toggleable__label sk-toggleable__label-arrow\">estimator: LogisticRegression</label><div class=\"sk-toggleable__content\"><pre>LogisticRegression()</pre></div></div></div><div class=\"sk-serial\"><div class=\"sk-item\"><div class=\"sk-estimator sk-toggleable\"><input class=\"sk-toggleable__control sk-hidden--visually\" id=\"sk-estimator-id-6\" type=\"checkbox\" ><label for=\"sk-estimator-id-6\" class=\"sk-toggleable__label sk-toggleable__label-arrow\">LogisticRegression</label><div class=\"sk-toggleable__content\"><pre>LogisticRegression()</pre></div></div></div></div></div></div></div></div></div></div>"
            ]
          },
          "metadata": {},
          "execution_count": 13
        }
      ]
    },
    {
      "cell_type": "code",
      "source": [
        "#Step4: Identify the feature that has the highest ranking\n",
        "\n",
        "selectFeatures.ranking_"
      ],
      "metadata": {
        "colab": {
          "base_uri": "https://localhost:8080/"
        },
        "id": "Fpf__B7z3Iqk",
        "outputId": "429c58d2-ba2f-4dad-90cd-3890e7d2f57b"
      },
      "execution_count": 14,
      "outputs": [
        {
          "output_type": "execute_result",
          "data": {
            "text/plain": [
              "array([4, 1, 3, 5, 2, 6, 7, 1, 1, 1, 1])"
            ]
          },
          "metadata": {},
          "execution_count": 14
        }
      ]
    },
    {
      "cell_type": "code",
      "source": [
        "#'fixed acidity', 'volatile acidity', 'citric acid', 'residual sugar','chlorides', 'free sulfur dioxide', 'total sulfur dioxide', 'density','pH', 'sulphates', 'alcohol'\n",
        "\n",
        "1,4,7,8,9,10"
      ],
      "metadata": {
        "id": "ZwBjzKWiZrTE"
      },
      "execution_count": null,
      "outputs": []
    },
    {
      "cell_type": "code",
      "source": [
        "#SFM Select from Model\n",
        "# It is applicable for all algo"
      ],
      "metadata": {
        "id": "TiuNBDYc3m1W"
      },
      "execution_count": null,
      "outputs": []
    },
    {
      "cell_type": "code",
      "source": [
        "#Step1: Initialize the algo\n",
        "from sklearn.linear_model import LogisticRegression\n",
        "modelAlgo = LogisticRegression()"
      ],
      "metadata": {
        "id": "LnBTnMj24bEN"
      },
      "execution_count": 15,
      "outputs": []
    },
    {
      "cell_type": "code",
      "source": [
        "#Step2: Initialize SelectFromModel\n",
        "\n",
        "from sklearn.feature_selection import SelectFromModel\n",
        "selectFeatures = SelectFromModel(estimator=modelAlgo)"
      ],
      "metadata": {
        "id": "VrNNPG3E4bEN"
      },
      "execution_count": 16,
      "outputs": []
    },
    {
      "cell_type": "code",
      "source": [
        "#Step3: Fit the data to the SFM object\n",
        "selectFeatures.fit(features,label)"
      ],
      "metadata": {
        "colab": {
          "base_uri": "https://localhost:8080/",
          "height": 118
        },
        "outputId": "3e690065-52a1-4f81-98b2-20ef2854ee37",
        "id": "tXwXKTgi4bEN"
      },
      "execution_count": 17,
      "outputs": [
        {
          "output_type": "execute_result",
          "data": {
            "text/plain": [
              "SelectFromModel(estimator=LogisticRegression())"
            ],
            "text/html": [
              "<style>#sk-container-id-3 {color: black;}#sk-container-id-3 pre{padding: 0;}#sk-container-id-3 div.sk-toggleable {background-color: white;}#sk-container-id-3 label.sk-toggleable__label {cursor: pointer;display: block;width: 100%;margin-bottom: 0;padding: 0.3em;box-sizing: border-box;text-align: center;}#sk-container-id-3 label.sk-toggleable__label-arrow:before {content: \"▸\";float: left;margin-right: 0.25em;color: #696969;}#sk-container-id-3 label.sk-toggleable__label-arrow:hover:before {color: black;}#sk-container-id-3 div.sk-estimator:hover label.sk-toggleable__label-arrow:before {color: black;}#sk-container-id-3 div.sk-toggleable__content {max-height: 0;max-width: 0;overflow: hidden;text-align: left;background-color: #f0f8ff;}#sk-container-id-3 div.sk-toggleable__content pre {margin: 0.2em;color: black;border-radius: 0.25em;background-color: #f0f8ff;}#sk-container-id-3 input.sk-toggleable__control:checked~div.sk-toggleable__content {max-height: 200px;max-width: 100%;overflow: auto;}#sk-container-id-3 input.sk-toggleable__control:checked~label.sk-toggleable__label-arrow:before {content: \"▾\";}#sk-container-id-3 div.sk-estimator input.sk-toggleable__control:checked~label.sk-toggleable__label {background-color: #d4ebff;}#sk-container-id-3 div.sk-label input.sk-toggleable__control:checked~label.sk-toggleable__label {background-color: #d4ebff;}#sk-container-id-3 input.sk-hidden--visually {border: 0;clip: rect(1px 1px 1px 1px);clip: rect(1px, 1px, 1px, 1px);height: 1px;margin: -1px;overflow: hidden;padding: 0;position: absolute;width: 1px;}#sk-container-id-3 div.sk-estimator {font-family: monospace;background-color: #f0f8ff;border: 1px dotted black;border-radius: 0.25em;box-sizing: border-box;margin-bottom: 0.5em;}#sk-container-id-3 div.sk-estimator:hover {background-color: #d4ebff;}#sk-container-id-3 div.sk-parallel-item::after {content: \"\";width: 100%;border-bottom: 1px solid gray;flex-grow: 1;}#sk-container-id-3 div.sk-label:hover label.sk-toggleable__label {background-color: #d4ebff;}#sk-container-id-3 div.sk-serial::before {content: \"\";position: absolute;border-left: 1px solid gray;box-sizing: border-box;top: 0;bottom: 0;left: 50%;z-index: 0;}#sk-container-id-3 div.sk-serial {display: flex;flex-direction: column;align-items: center;background-color: white;padding-right: 0.2em;padding-left: 0.2em;position: relative;}#sk-container-id-3 div.sk-item {position: relative;z-index: 1;}#sk-container-id-3 div.sk-parallel {display: flex;align-items: stretch;justify-content: center;background-color: white;position: relative;}#sk-container-id-3 div.sk-item::before, #sk-container-id-3 div.sk-parallel-item::before {content: \"\";position: absolute;border-left: 1px solid gray;box-sizing: border-box;top: 0;bottom: 0;left: 50%;z-index: -1;}#sk-container-id-3 div.sk-parallel-item {display: flex;flex-direction: column;z-index: 1;position: relative;background-color: white;}#sk-container-id-3 div.sk-parallel-item:first-child::after {align-self: flex-end;width: 50%;}#sk-container-id-3 div.sk-parallel-item:last-child::after {align-self: flex-start;width: 50%;}#sk-container-id-3 div.sk-parallel-item:only-child::after {width: 0;}#sk-container-id-3 div.sk-dashed-wrapped {border: 1px dashed gray;margin: 0 0.4em 0.5em 0.4em;box-sizing: border-box;padding-bottom: 0.4em;background-color: white;}#sk-container-id-3 div.sk-label label {font-family: monospace;font-weight: bold;display: inline-block;line-height: 1.2em;}#sk-container-id-3 div.sk-label-container {text-align: center;}#sk-container-id-3 div.sk-container {/* jupyter's `normalize.less` sets `[hidden] { display: none; }` but bootstrap.min.css set `[hidden] { display: none !important; }` so we also need the `!important` here to be able to override the default hidden behavior on the sphinx rendered scikit-learn.org. See: https://github.com/scikit-learn/scikit-learn/issues/21755 */display: inline-block !important;position: relative;}#sk-container-id-3 div.sk-text-repr-fallback {display: none;}</style><div id=\"sk-container-id-3\" class=\"sk-top-container\"><div class=\"sk-text-repr-fallback\"><pre>SelectFromModel(estimator=LogisticRegression())</pre><b>In a Jupyter environment, please rerun this cell to show the HTML representation or trust the notebook. <br />On GitHub, the HTML representation is unable to render, please try loading this page with nbviewer.org.</b></div><div class=\"sk-container\" hidden><div class=\"sk-item sk-dashed-wrapped\"><div class=\"sk-label-container\"><div class=\"sk-label sk-toggleable\"><input class=\"sk-toggleable__control sk-hidden--visually\" id=\"sk-estimator-id-7\" type=\"checkbox\" ><label for=\"sk-estimator-id-7\" class=\"sk-toggleable__label sk-toggleable__label-arrow\">SelectFromModel</label><div class=\"sk-toggleable__content\"><pre>SelectFromModel(estimator=LogisticRegression())</pre></div></div></div><div class=\"sk-parallel\"><div class=\"sk-parallel-item\"><div class=\"sk-item\"><div class=\"sk-label-container\"><div class=\"sk-label sk-toggleable\"><input class=\"sk-toggleable__control sk-hidden--visually\" id=\"sk-estimator-id-8\" type=\"checkbox\" ><label for=\"sk-estimator-id-8\" class=\"sk-toggleable__label sk-toggleable__label-arrow\">estimator: LogisticRegression</label><div class=\"sk-toggleable__content\"><pre>LogisticRegression()</pre></div></div></div><div class=\"sk-serial\"><div class=\"sk-item\"><div class=\"sk-estimator sk-toggleable\"><input class=\"sk-toggleable__control sk-hidden--visually\" id=\"sk-estimator-id-9\" type=\"checkbox\" ><label for=\"sk-estimator-id-9\" class=\"sk-toggleable__label sk-toggleable__label-arrow\">LogisticRegression</label><div class=\"sk-toggleable__content\"><pre>LogisticRegression()</pre></div></div></div></div></div></div></div></div></div></div>"
            ]
          },
          "metadata": {},
          "execution_count": 17
        }
      ]
    },
    {
      "cell_type": "code",
      "source": [
        "#Step4: Identify the feature that has the highest support\n",
        "\n",
        "selectFeatures.get_support()"
      ],
      "metadata": {
        "colab": {
          "base_uri": "https://localhost:8080/"
        },
        "outputId": "9b5c8e09-d6c9-4582-c059-4236b31cad43",
        "id": "O4D0HiuH4bEN"
      },
      "execution_count": 18,
      "outputs": [
        {
          "output_type": "execute_result",
          "data": {
            "text/plain": [
              "array([False,  True, False, False, False, False, False, False,  True,\n",
              "       False,  True])"
            ]
          },
          "metadata": {},
          "execution_count": 18
        }
      ]
    },
    {
      "cell_type": "code",
      "source": [
        "#1,8,10"
      ],
      "metadata": {
        "id": "XCwyifwxZ-dJ"
      },
      "execution_count": null,
      "outputs": []
    },
    {
      "cell_type": "code",
      "source": [
        "data.columns"
      ],
      "metadata": {
        "colab": {
          "base_uri": "https://localhost:8080/"
        },
        "id": "yuu8qm0wZilE",
        "outputId": "ef8c95eb-a2ed-4c51-e006-7dedc141e341"
      },
      "execution_count": 19,
      "outputs": [
        {
          "output_type": "execute_result",
          "data": {
            "text/plain": [
              "Index(['fixed acidity', 'volatile acidity', 'citric acid', 'residual sugar',\n",
              "       'chlorides', 'free sulfur dioxide', 'total sulfur dioxide', 'density',\n",
              "       'pH', 'sulphates', 'alcohol', 'quality'],\n",
              "      dtype='object')"
            ]
          },
          "metadata": {},
          "execution_count": 19
        }
      ]
    },
    {
      "cell_type": "code",
      "source": [],
      "metadata": {
        "id": "1EU8de7laFbc"
      },
      "execution_count": null,
      "outputs": []
    },
    {
      "cell_type": "code",
      "source": [
        "features = data.iloc[:,[1,4,7,8,9,10]].values\n",
        "label = data.iloc[:,11].values"
      ],
      "metadata": {
        "id": "fiWD5I9NaF1f"
      },
      "execution_count": 20,
      "outputs": []
    },
    {
      "cell_type": "code",
      "source": [
        "SL = 0.05\n",
        "CL = 1-SL\n",
        "\n",
        "from sklearn.model_selection import train_test_split\n",
        "from sklearn.linear_model import LogisticRegression\n",
        "import warnings\n",
        "warnings.filterwarnings(\"ignore\")\n",
        "\n",
        "for rs in range(1,300):\n",
        "  X_train,X_test,y_train,y_test = train_test_split(features,\n",
        "                                                   label,\n",
        "                                                   test_size=0.2,\n",
        "                                                   random_state=rs)\n",
        "\n",
        "  model = LogisticRegression()\n",
        "  model.fit(X_train,y_train)\n",
        "  trainScore = model.score(X_train,y_train)\n",
        "  testScore = model.score(X_test,y_test)\n",
        "  bestTestScore = 0\n",
        "\n",
        "  if testScore > trainScore:\n",
        "    print(f\"Test Score : {testScore} TrainScore: {trainScore} RS: {rs}\")"
      ],
      "metadata": {
        "colab": {
          "base_uri": "https://localhost:8080/"
        },
        "outputId": "4cc345bc-56ae-4f7c-873e-9c5051dda55e",
        "id": "hvnhz7o8aF1f"
      },
      "execution_count": 21,
      "outputs": [
        {
          "output_type": "stream",
          "name": "stdout",
          "text": [
            "Test Score : 0.60625 TrainScore: 0.5754495699765442 RS: 1\n",
            "Test Score : 0.590625 TrainScore: 0.5645035183737295 RS: 3\n",
            "Test Score : 0.625 TrainScore: 0.5691946833463644 RS: 5\n",
            "Test Score : 0.578125 TrainScore: 0.5660672400312744 RS: 7\n",
            "Test Score : 0.5875 TrainScore: 0.5746677091477717 RS: 9\n",
            "Test Score : 0.578125 TrainScore: 0.5746677091477717 RS: 15\n",
            "Test Score : 0.58125 TrainScore: 0.5793588741204065 RS: 16\n",
            "Test Score : 0.603125 TrainScore: 0.5715402658326818 RS: 17\n",
            "Test Score : 0.575 TrainScore: 0.565285379202502 RS: 20\n",
            "Test Score : 0.578125 TrainScore: 0.5738858483189992 RS: 22\n",
            "Test Score : 0.60625 TrainScore: 0.5707584050039093 RS: 23\n",
            "Test Score : 0.60625 TrainScore: 0.5707584050039093 RS: 25\n",
            "Test Score : 0.596875 TrainScore: 0.581704456606724 RS: 26\n",
            "Test Score : 0.584375 TrainScore: 0.5762314308053167 RS: 27\n",
            "Test Score : 0.575 TrainScore: 0.5691946833463644 RS: 29\n",
            "Test Score : 0.603125 TrainScore: 0.5715402658326818 RS: 31\n",
            "Test Score : 0.634375 TrainScore: 0.563721657544957 RS: 37\n",
            "Test Score : 0.6 TrainScore: 0.5684128225175918 RS: 38\n",
            "Test Score : 0.59375 TrainScore: 0.5723221266614542 RS: 40\n",
            "Test Score : 0.621875 TrainScore: 0.5551211884284597 RS: 43\n",
            "Test Score : 0.590625 TrainScore: 0.5731039874902267 RS: 44\n",
            "Test Score : 0.590625 TrainScore: 0.5746677091477717 RS: 45\n",
            "Test Score : 0.615625 TrainScore: 0.5715402658326818 RS: 48\n",
            "Test Score : 0.58125 TrainScore: 0.5777951524628616 RS: 50\n",
            "Test Score : 0.590625 TrainScore: 0.5738858483189992 RS: 51\n",
            "Test Score : 0.596875 TrainScore: 0.5715402658326818 RS: 53\n",
            "Test Score : 0.5875 TrainScore: 0.5746677091477717 RS: 56\n",
            "Test Score : 0.58125 TrainScore: 0.5676309616888194 RS: 60\n",
            "Test Score : 0.584375 TrainScore: 0.5738858483189992 RS: 61\n",
            "Test Score : 0.5875 TrainScore: 0.5731039874902267 RS: 62\n",
            "Test Score : 0.6 TrainScore: 0.5762314308053167 RS: 63\n",
            "Test Score : 0.584375 TrainScore: 0.5801407349491791 RS: 68\n",
            "Test Score : 0.58125 TrainScore: 0.5785770132916341 RS: 70\n",
            "Test Score : 0.61875 TrainScore: 0.5590304925723222 RS: 73\n",
            "Test Score : 0.590625 TrainScore: 0.5746677091477717 RS: 74\n",
            "Test Score : 0.59375 TrainScore: 0.5731039874902267 RS: 76\n",
            "Test Score : 0.58125 TrainScore: 0.5676309616888194 RS: 80\n",
            "Test Score : 0.584375 TrainScore: 0.5770132916340891 RS: 82\n",
            "Test Score : 0.578125 TrainScore: 0.5715402658326818 RS: 83\n",
            "Test Score : 0.603125 TrainScore: 0.5746677091477717 RS: 84\n",
            "Test Score : 0.60625 TrainScore: 0.5777951524628616 RS: 86\n",
            "Test Score : 0.590625 TrainScore: 0.5746677091477717 RS: 92\n",
            "Test Score : 0.609375 TrainScore: 0.5605942142298671 RS: 93\n",
            "Test Score : 0.60625 TrainScore: 0.5762314308053167 RS: 100\n",
            "Test Score : 0.578125 TrainScore: 0.5668491008600469 RS: 103\n",
            "Test Score : 0.596875 TrainScore: 0.5684128225175918 RS: 104\n",
            "Test Score : 0.59375 TrainScore: 0.5754495699765442 RS: 105\n",
            "Test Score : 0.58125 TrainScore: 0.5770132916340891 RS: 108\n",
            "Test Score : 0.5875 TrainScore: 0.5762314308053167 RS: 109\n",
            "Test Score : 0.61875 TrainScore: 0.5684128225175918 RS: 110\n",
            "Test Score : 0.609375 TrainScore: 0.5731039874902267 RS: 112\n",
            "Test Score : 0.590625 TrainScore: 0.5785770132916341 RS: 114\n",
            "Test Score : 0.61875 TrainScore: 0.5676309616888194 RS: 116\n",
            "Test Score : 0.590625 TrainScore: 0.5770132916340891 RS: 118\n",
            "Test Score : 0.596875 TrainScore: 0.5801407349491791 RS: 122\n",
            "Test Score : 0.615625 TrainScore: 0.5731039874902267 RS: 124\n",
            "Test Score : 0.58125 TrainScore: 0.5715402658326818 RS: 126\n",
            "Test Score : 0.578125 TrainScore: 0.5746677091477717 RS: 127\n",
            "Test Score : 0.58125 TrainScore: 0.5738858483189992 RS: 128\n",
            "Test Score : 0.603125 TrainScore: 0.5691946833463644 RS: 131\n",
            "Test Score : 0.590625 TrainScore: 0.5699765441751369 RS: 133\n",
            "Test Score : 0.575 TrainScore: 0.5731039874902267 RS: 135\n",
            "Test Score : 0.58125 TrainScore: 0.5723221266614542 RS: 138\n",
            "Test Score : 0.625 TrainScore: 0.5645035183737295 RS: 139\n",
            "Test Score : 0.58125 TrainScore: 0.5762314308053167 RS: 140\n",
            "Test Score : 0.578125 TrainScore: 0.5754495699765442 RS: 147\n",
            "Test Score : 0.6 TrainScore: 0.5715402658326818 RS: 151\n",
            "Test Score : 0.628125 TrainScore: 0.5629397967161845 RS: 152\n",
            "Test Score : 0.6 TrainScore: 0.5723221266614542 RS: 154\n",
            "Test Score : 0.609375 TrainScore: 0.565285379202502 RS: 156\n",
            "Test Score : 0.625 TrainScore: 0.5691946833463644 RS: 158\n",
            "Test Score : 0.590625 TrainScore: 0.5731039874902267 RS: 160\n",
            "Test Score : 0.590625 TrainScore: 0.5770132916340891 RS: 161\n",
            "Test Score : 0.578125 TrainScore: 0.5762314308053167 RS: 165\n",
            "Test Score : 0.615625 TrainScore: 0.5738858483189992 RS: 166\n",
            "Test Score : 0.578125 TrainScore: 0.5777951524628616 RS: 167\n",
            "Test Score : 0.578125 TrainScore: 0.5707584050039093 RS: 169\n",
            "Test Score : 0.6 TrainScore: 0.5699765441751369 RS: 170\n",
            "Test Score : 0.60625 TrainScore: 0.5731039874902267 RS: 172\n",
            "Test Score : 0.584375 TrainScore: 0.5676309616888194 RS: 175\n",
            "Test Score : 0.578125 TrainScore: 0.5770132916340891 RS: 176\n",
            "Test Score : 0.584375 TrainScore: 0.5809225957779516 RS: 177\n",
            "Test Score : 0.634375 TrainScore: 0.5699765441751369 RS: 181\n",
            "Test Score : 0.584375 TrainScore: 0.5777951524628616 RS: 184\n",
            "Test Score : 0.5875 TrainScore: 0.5715402658326818 RS: 185\n",
            "Test Score : 0.59375 TrainScore: 0.5801407349491791 RS: 188\n",
            "Test Score : 0.5875 TrainScore: 0.5715402658326818 RS: 189\n",
            "Test Score : 0.6 TrainScore: 0.5684128225175918 RS: 191\n",
            "Test Score : 0.571875 TrainScore: 0.5668491008600469 RS: 193\n",
            "Test Score : 0.5875 TrainScore: 0.5691946833463644 RS: 195\n",
            "Test Score : 0.621875 TrainScore: 0.5691946833463644 RS: 200\n",
            "Test Score : 0.5875 TrainScore: 0.5738858483189992 RS: 202\n",
            "Test Score : 0.6 TrainScore: 0.5676309616888194 RS: 203\n",
            "Test Score : 0.596875 TrainScore: 0.5762314308053167 RS: 206\n",
            "Test Score : 0.578125 TrainScore: 0.5762314308053167 RS: 209\n",
            "Test Score : 0.60625 TrainScore: 0.5785770132916341 RS: 214\n",
            "Test Score : 0.60625 TrainScore: 0.5707584050039093 RS: 218\n",
            "Test Score : 0.59375 TrainScore: 0.5723221266614542 RS: 223\n",
            "Test Score : 0.58125 TrainScore: 0.5676309616888194 RS: 225\n",
            "Test Score : 0.609375 TrainScore: 0.5738858483189992 RS: 226\n",
            "Test Score : 0.590625 TrainScore: 0.5738858483189992 RS: 228\n",
            "Test Score : 0.6 TrainScore: 0.5762314308053167 RS: 230\n",
            "Test Score : 0.58125 TrainScore: 0.5754495699765442 RS: 231\n",
            "Test Score : 0.590625 TrainScore: 0.5731039874902267 RS: 232\n",
            "Test Score : 0.575 TrainScore: 0.5731039874902267 RS: 235\n",
            "Test Score : 0.590625 TrainScore: 0.5691946833463644 RS: 237\n",
            "Test Score : 0.590625 TrainScore: 0.5777951524628616 RS: 239\n",
            "Test Score : 0.584375 TrainScore: 0.5762314308053167 RS: 241\n",
            "Test Score : 0.59375 TrainScore: 0.5754495699765442 RS: 244\n",
            "Test Score : 0.596875 TrainScore: 0.5707584050039093 RS: 248\n",
            "Test Score : 0.5875 TrainScore: 0.5762314308053167 RS: 250\n",
            "Test Score : 0.56875 TrainScore: 0.565285379202502 RS: 255\n",
            "Test Score : 0.575 TrainScore: 0.5746677091477717 RS: 256\n",
            "Test Score : 0.6 TrainScore: 0.5770132916340891 RS: 258\n",
            "Test Score : 0.578125 TrainScore: 0.5770132916340891 RS: 259\n",
            "Test Score : 0.578125 TrainScore: 0.5676309616888194 RS: 260\n",
            "Test Score : 0.628125 TrainScore: 0.5691946833463644 RS: 261\n",
            "Test Score : 0.578125 TrainScore: 0.5777951524628616 RS: 265\n",
            "Test Score : 0.61875 TrainScore: 0.5660672400312744 RS: 266\n",
            "Test Score : 0.584375 TrainScore: 0.5762314308053167 RS: 270\n",
            "Test Score : 0.603125 TrainScore: 0.5676309616888194 RS: 271\n",
            "Test Score : 0.59375 TrainScore: 0.5785770132916341 RS: 272\n",
            "Test Score : 0.578125 TrainScore: 0.5731039874902267 RS: 275\n",
            "Test Score : 0.6 TrainScore: 0.5731039874902267 RS: 279\n",
            "Test Score : 0.603125 TrainScore: 0.5723221266614542 RS: 280\n",
            "Test Score : 0.61875 TrainScore: 0.5660672400312744 RS: 283\n",
            "Test Score : 0.628125 TrainScore: 0.5559030492572322 RS: 285\n",
            "Test Score : 0.6 TrainScore: 0.5731039874902267 RS: 287\n",
            "Test Score : 0.584375 TrainScore: 0.5731039874902267 RS: 291\n",
            "Test Score : 0.59375 TrainScore: 0.5770132916340891 RS: 293\n",
            "Test Score : 0.5875 TrainScore: 0.5770132916340891 RS: 294\n",
            "Test Score : 0.590625 TrainScore: 0.5723221266614542 RS: 295\n",
            "Test Score : 0.578125 TrainScore: 0.5762314308053167 RS: 296\n",
            "Test Score : 0.603125 TrainScore: 0.5754495699765442 RS: 298\n"
          ]
        }
      ]
    },
    {
      "cell_type": "code",
      "source": [],
      "metadata": {
        "id": "_KPwoO_KaGf_"
      },
      "execution_count": null,
      "outputs": []
    },
    {
      "cell_type": "code",
      "source": [
        "features = data.iloc[:,[1,8,10]].values\n",
        "label = data.iloc[:,11].values"
      ],
      "metadata": {
        "id": "bct-QV92aHEo"
      },
      "execution_count": 22,
      "outputs": []
    },
    {
      "cell_type": "code",
      "source": [
        "SL = 0.05\n",
        "CL = 1-SL\n",
        "\n",
        "from sklearn.model_selection import train_test_split\n",
        "from sklearn.linear_model import LogisticRegression\n",
        "import warnings\n",
        "warnings.filterwarnings(\"ignore\")\n",
        "\n",
        "for rs in range(1,300):\n",
        "  X_train,X_test,y_train,y_test = train_test_split(features,\n",
        "                                                   label,\n",
        "                                                   test_size=0.2,\n",
        "                                                   random_state=rs)\n",
        "\n",
        "  model = LogisticRegression()\n",
        "  model.fit(X_train,y_train)\n",
        "  trainScore = model.score(X_train,y_train)\n",
        "  testScore = model.score(X_test,y_test)\n",
        "  bestTestScore = 0\n",
        "\n",
        "  if testScore > trainScore:\n",
        "    print(f\"Test Score : {testScore} TrainScore: {trainScore} RS: {rs}\")"
      ],
      "metadata": {
        "colab": {
          "base_uri": "https://localhost:8080/"
        },
        "outputId": "dcf0e78a-6171-413a-b6be-8499f1fd8e87",
        "id": "KFHO38W3aHEo"
      },
      "execution_count": 23,
      "outputs": [
        {
          "output_type": "stream",
          "name": "stdout",
          "text": [
            "Test Score : 0.6125 TrainScore: 0.5613760750586395 RS: 1\n",
            "Test Score : 0.6125 TrainScore: 0.5684128225175918 RS: 3\n",
            "Test Score : 0.63125 TrainScore: 0.5699765441751369 RS: 5\n",
            "Test Score : 0.59375 TrainScore: 0.5715402658326818 RS: 6\n",
            "Test Score : 0.596875 TrainScore: 0.5777951524628616 RS: 8\n",
            "Test Score : 0.596875 TrainScore: 0.565285379202502 RS: 9\n",
            "Test Score : 0.584375 TrainScore: 0.5738858483189992 RS: 13\n",
            "Test Score : 0.59375 TrainScore: 0.5738858483189992 RS: 15\n",
            "Test Score : 0.575 TrainScore: 0.5699765441751369 RS: 16\n",
            "Test Score : 0.603125 TrainScore: 0.5699765441751369 RS: 17\n",
            "Test Score : 0.575 TrainScore: 0.5668491008600469 RS: 18\n",
            "Test Score : 0.6 TrainScore: 0.5707584050039093 RS: 20\n",
            "Test Score : 0.6 TrainScore: 0.5629397967161845 RS: 23\n",
            "Test Score : 0.609375 TrainScore: 0.565285379202502 RS: 25\n",
            "Test Score : 0.584375 TrainScore: 0.5746677091477717 RS: 26\n",
            "Test Score : 0.590625 TrainScore: 0.5754495699765442 RS: 27\n",
            "Test Score : 0.575 TrainScore: 0.5731039874902267 RS: 29\n",
            "Test Score : 0.578125 TrainScore: 0.5707584050039093 RS: 30\n",
            "Test Score : 0.609375 TrainScore: 0.5691946833463644 RS: 31\n",
            "Test Score : 0.621875 TrainScore: 0.562157935887412 RS: 37\n",
            "Test Score : 0.603125 TrainScore: 0.5731039874902267 RS: 38\n",
            "Test Score : 0.61875 TrainScore: 0.5590304925723222 RS: 43\n",
            "Test Score : 0.578125 TrainScore: 0.5668491008600469 RS: 44\n",
            "Test Score : 0.609375 TrainScore: 0.5699765441751369 RS: 45\n",
            "Test Score : 0.628125 TrainScore: 0.5645035183737295 RS: 48\n",
            "Test Score : 0.584375 TrainScore: 0.5801407349491791 RS: 50\n",
            "Test Score : 0.578125 TrainScore: 0.5723221266614542 RS: 51\n",
            "Test Score : 0.58125 TrainScore: 0.5723221266614542 RS: 53\n",
            "Test Score : 0.59375 TrainScore: 0.5660672400312744 RS: 60\n",
            "Test Score : 0.59375 TrainScore: 0.5746677091477717 RS: 61\n",
            "Test Score : 0.578125 TrainScore: 0.5723221266614542 RS: 62\n",
            "Test Score : 0.6125 TrainScore: 0.5723221266614542 RS: 63\n",
            "Test Score : 0.584375 TrainScore: 0.5731039874902267 RS: 67\n",
            "Test Score : 0.59375 TrainScore: 0.5723221266614542 RS: 68\n",
            "Test Score : 0.596875 TrainScore: 0.5715402658326818 RS: 70\n",
            "Test Score : 0.58125 TrainScore: 0.5746677091477717 RS: 71\n",
            "Test Score : 0.578125 TrainScore: 0.5731039874902267 RS: 72\n",
            "Test Score : 0.625 TrainScore: 0.5660672400312744 RS: 73\n",
            "Test Score : 0.58125 TrainScore: 0.5715402658326818 RS: 76\n",
            "Test Score : 0.5875 TrainScore: 0.5691946833463644 RS: 80\n",
            "Test Score : 0.6 TrainScore: 0.5691946833463644 RS: 83\n",
            "Test Score : 0.59375 TrainScore: 0.5691946833463644 RS: 84\n",
            "Test Score : 0.578125 TrainScore: 0.5777951524628616 RS: 86\n",
            "Test Score : 0.5875 TrainScore: 0.5676309616888194 RS: 89\n",
            "Test Score : 0.578125 TrainScore: 0.5746677091477717 RS: 90\n",
            "Test Score : 0.58125 TrainScore: 0.5738858483189992 RS: 91\n",
            "Test Score : 0.615625 TrainScore: 0.5684128225175918 RS: 92\n",
            "Test Score : 0.590625 TrainScore: 0.5754495699765442 RS: 93\n",
            "Test Score : 0.578125 TrainScore: 0.5738858483189992 RS: 94\n",
            "Test Score : 0.575 TrainScore: 0.5746677091477717 RS: 99\n",
            "Test Score : 0.590625 TrainScore: 0.5723221266614542 RS: 100\n",
            "Test Score : 0.61875 TrainScore: 0.5660672400312744 RS: 104\n",
            "Test Score : 0.58125 TrainScore: 0.5770132916340891 RS: 105\n",
            "Test Score : 0.5875 TrainScore: 0.5809225957779516 RS: 108\n",
            "Test Score : 0.5875 TrainScore: 0.5754495699765442 RS: 109\n",
            "Test Score : 0.61875 TrainScore: 0.5613760750586395 RS: 110\n",
            "Test Score : 0.6 TrainScore: 0.5715402658326818 RS: 112\n",
            "Test Score : 0.590625 TrainScore: 0.5699765441751369 RS: 114\n",
            "Test Score : 0.584375 TrainScore: 0.5668491008600469 RS: 115\n",
            "Test Score : 0.609375 TrainScore: 0.5582486317435497 RS: 116\n",
            "Test Score : 0.6 TrainScore: 0.5715402658326818 RS: 118\n",
            "Test Score : 0.60625 TrainScore: 0.5731039874902267 RS: 124\n",
            "Test Score : 0.590625 TrainScore: 0.5676309616888194 RS: 126\n",
            "Test Score : 0.584375 TrainScore: 0.5754495699765442 RS: 127\n",
            "Test Score : 0.5875 TrainScore: 0.5777951524628616 RS: 128\n",
            "Test Score : 0.590625 TrainScore: 0.5707584050039093 RS: 131\n",
            "Test Score : 0.58125 TrainScore: 0.5684128225175918 RS: 135\n",
            "Test Score : 0.596875 TrainScore: 0.5770132916340891 RS: 136\n",
            "Test Score : 0.578125 TrainScore: 0.5668491008600469 RS: 138\n",
            "Test Score : 0.625 TrainScore: 0.5613760750586395 RS: 139\n",
            "Test Score : 0.58125 TrainScore: 0.5699765441751369 RS: 140\n",
            "Test Score : 0.578125 TrainScore: 0.5777951524628616 RS: 146\n",
            "Test Score : 0.6 TrainScore: 0.5731039874902267 RS: 147\n",
            "Test Score : 0.5875 TrainScore: 0.5684128225175918 RS: 151\n",
            "Test Score : 0.615625 TrainScore: 0.5629397967161845 RS: 152\n",
            "Test Score : 0.59375 TrainScore: 0.5715402658326818 RS: 154\n",
            "Test Score : 0.59375 TrainScore: 0.5707584050039093 RS: 156\n",
            "Test Score : 0.590625 TrainScore: 0.5738858483189992 RS: 157\n",
            "Test Score : 0.61875 TrainScore: 0.5684128225175918 RS: 158\n",
            "Test Score : 0.584375 TrainScore: 0.5723221266614542 RS: 160\n",
            "Test Score : 0.575 TrainScore: 0.5723221266614542 RS: 164\n",
            "Test Score : 0.575 TrainScore: 0.5699765441751369 RS: 165\n",
            "Test Score : 0.60625 TrainScore: 0.5668491008600469 RS: 166\n",
            "Test Score : 0.5625 TrainScore: 0.5613760750586395 RS: 169\n",
            "Test Score : 0.603125 TrainScore: 0.5699765441751369 RS: 170\n",
            "Test Score : 0.6 TrainScore: 0.5668491008600469 RS: 172\n",
            "Test Score : 0.6 TrainScore: 0.5723221266614542 RS: 175\n",
            "Test Score : 0.584375 TrainScore: 0.5762314308053167 RS: 176\n",
            "Test Score : 0.63125 TrainScore: 0.5645035183737295 RS: 181\n",
            "Test Score : 0.6 TrainScore: 0.5699765441751369 RS: 185\n",
            "Test Score : 0.58125 TrainScore: 0.5723221266614542 RS: 186\n",
            "Test Score : 0.58125 TrainScore: 0.5777951524628616 RS: 188\n",
            "Test Score : 0.590625 TrainScore: 0.5699765441751369 RS: 189\n",
            "Test Score : 0.6 TrainScore: 0.5676309616888194 RS: 191\n",
            "Test Score : 0.578125 TrainScore: 0.5691946833463644 RS: 193\n",
            "Test Score : 0.58125 TrainScore: 0.5699765441751369 RS: 195\n",
            "Test Score : 0.628125 TrainScore: 0.5605942142298671 RS: 200\n",
            "Test Score : 0.621875 TrainScore: 0.5715402658326818 RS: 203\n",
            "Test Score : 0.60625 TrainScore: 0.5699765441751369 RS: 206\n",
            "Test Score : 0.584375 TrainScore: 0.5785770132916341 RS: 211\n",
            "Test Score : 0.596875 TrainScore: 0.5731039874902267 RS: 214\n",
            "Test Score : 0.590625 TrainScore: 0.5684128225175918 RS: 218\n",
            "Test Score : 0.58125 TrainScore: 0.5754495699765442 RS: 223\n",
            "Test Score : 0.578125 TrainScore: 0.5707584050039093 RS: 225\n",
            "Test Score : 0.603125 TrainScore: 0.563721657544957 RS: 226\n",
            "Test Score : 0.603125 TrainScore: 0.5754495699765442 RS: 228\n",
            "Test Score : 0.58125 TrainScore: 0.5746677091477717 RS: 230\n",
            "Test Score : 0.58125 TrainScore: 0.5676309616888194 RS: 231\n",
            "Test Score : 0.584375 TrainScore: 0.562157935887412 RS: 232\n",
            "Test Score : 0.575 TrainScore: 0.5731039874902267 RS: 234\n",
            "Test Score : 0.5875 TrainScore: 0.5731039874902267 RS: 235\n",
            "Test Score : 0.59375 TrainScore: 0.5645035183737295 RS: 237\n",
            "Test Score : 0.58125 TrainScore: 0.5785770132916341 RS: 238\n",
            "Test Score : 0.584375 TrainScore: 0.5809225957779516 RS: 239\n",
            "Test Score : 0.603125 TrainScore: 0.5715402658326818 RS: 241\n",
            "Test Score : 0.58125 TrainScore: 0.5668491008600469 RS: 244\n",
            "Test Score : 0.6 TrainScore: 0.565285379202502 RS: 245\n",
            "Test Score : 0.59375 TrainScore: 0.5785770132916341 RS: 248\n",
            "Test Score : 0.590625 TrainScore: 0.5801407349491791 RS: 252\n",
            "Test Score : 0.5875 TrainScore: 0.5731039874902267 RS: 258\n",
            "Test Score : 0.575 TrainScore: 0.5723221266614542 RS: 259\n",
            "Test Score : 0.58125 TrainScore: 0.5770132916340891 RS: 260\n",
            "Test Score : 0.609375 TrainScore: 0.5707584050039093 RS: 261\n",
            "Test Score : 0.590625 TrainScore: 0.5770132916340891 RS: 264\n",
            "Test Score : 0.603125 TrainScore: 0.5691946833463644 RS: 266\n",
            "Test Score : 0.58125 TrainScore: 0.5684128225175918 RS: 267\n",
            "Test Score : 0.59375 TrainScore: 0.5738858483189992 RS: 270\n",
            "Test Score : 0.609375 TrainScore: 0.5676309616888194 RS: 271\n",
            "Test Score : 0.58125 TrainScore: 0.5746677091477717 RS: 272\n",
            "Test Score : 0.578125 TrainScore: 0.5668491008600469 RS: 275\n",
            "Test Score : 0.59375 TrainScore: 0.5684128225175918 RS: 276\n",
            "Test Score : 0.6 TrainScore: 0.5660672400312744 RS: 279\n",
            "Test Score : 0.590625 TrainScore: 0.5715402658326818 RS: 280\n",
            "Test Score : 0.63125 TrainScore: 0.5645035183737295 RS: 283\n",
            "Test Score : 0.6375 TrainScore: 0.5590304925723222 RS: 285\n",
            "Test Score : 0.590625 TrainScore: 0.5707584050039093 RS: 286\n",
            "Test Score : 0.578125 TrainScore: 0.5731039874902267 RS: 287\n",
            "Test Score : 0.59375 TrainScore: 0.5793588741204065 RS: 289\n",
            "Test Score : 0.584375 TrainScore: 0.5723221266614542 RS: 292\n",
            "Test Score : 0.5875 TrainScore: 0.5738858483189992 RS: 293\n",
            "Test Score : 0.596875 TrainScore: 0.5731039874902267 RS: 294\n",
            "Test Score : 0.590625 TrainScore: 0.5699765441751369 RS: 295\n",
            "Test Score : 0.578125 TrainScore: 0.5723221266614542 RS: 296\n",
            "Test Score : 0.59375 TrainScore: 0.5715402658326818 RS: 298\n"
          ]
        }
      ]
    },
    {
      "cell_type": "code",
      "source": [
        "#normal Test Score : 0.64375 TrainScore: 0.5699765441751369 RS: 200\n",
        "#RFE Test Score : 0.634375 TrainScore: 0.563721657544957 RS: 37\n",
        "#SFM Test Score : 0.63125 TrainScore: 0.5645035183737295 RS: 181"
      ],
      "metadata": {
        "id": "fFFJ03P0x9QP"
      },
      "execution_count": null,
      "outputs": []
    }
  ]
}