{
  "nbformat": 4,
  "nbformat_minor": 0,
  "metadata": {
    "colab": {
      "provenance": [],
      "include_colab_link": true
    },
    "kernelspec": {
      "name": "python3",
      "display_name": "Python 3"
    },
    "language_info": {
      "name": "python"
    }
  },
  "cells": [
    {
      "cell_type": "markdown",
      "metadata": {
        "id": "view-in-github",
        "colab_type": "text"
      },
      "source": [
        "<a href=\"https://colab.research.google.com/github/agarwalpratik/aiml/blob/main/BaggingExampleImplementationj.ipynb\" target=\"_parent\"><img src=\"https://colab.research.google.com/assets/colab-badge.svg\" alt=\"Open In Colab\"/></a>"
      ]
    },
    {
      "cell_type": "code",
      "execution_count": 1,
      "metadata": {
        "id": "g8LXVmzA1pL6"
      },
      "outputs": [],
      "source": [
        "import pandas as pd\n",
        "import numpy as np"
      ]
    },
    {
      "cell_type": "code",
      "source": [
        "data = pd.read_csv(\"Social_Network_Ads.csv\")"
      ],
      "metadata": {
        "id": "q2VkLLSr1xar"
      },
      "execution_count": 2,
      "outputs": []
    },
    {
      "cell_type": "code",
      "source": [
        "data.info()"
      ],
      "metadata": {
        "colab": {
          "base_uri": "https://localhost:8080/"
        },
        "id": "HX-U_iuM11sA",
        "outputId": "5cc9e4e8-17ce-410b-d285-bb59b26fa823"
      },
      "execution_count": 3,
      "outputs": [
        {
          "output_type": "stream",
          "name": "stdout",
          "text": [
            "<class 'pandas.core.frame.DataFrame'>\n",
            "RangeIndex: 400 entries, 0 to 399\n",
            "Data columns (total 3 columns):\n",
            " #   Column           Non-Null Count  Dtype\n",
            "---  ------           --------------  -----\n",
            " 0   Age              400 non-null    int64\n",
            " 1   EstimatedSalary  400 non-null    int64\n",
            " 2   Purchased        400 non-null    int64\n",
            "dtypes: int64(3)\n",
            "memory usage: 9.5 KB\n"
          ]
        }
      ]
    },
    {
      "cell_type": "code",
      "source": [
        "features = data.iloc[:,[0,1]].values\n",
        "label = data.iloc[:,2].values"
      ],
      "metadata": {
        "id": "OOUX9dQk12qW"
      },
      "execution_count": 4,
      "outputs": []
    },
    {
      "cell_type": "code",
      "source": [
        "from sklearn.model_selection import train_test_split\n",
        "X_train,X_test,y_train,y_test = train_test_split(features,\n",
        "                                                 label,\n",
        "                                                 test_size=0.2,\n",
        "                                                 random_state=3)"
      ],
      "metadata": {
        "id": "zPL2tgIq18rZ"
      },
      "execution_count": 5,
      "outputs": []
    },
    {
      "cell_type": "markdown",
      "source": [
        "# **Bagging with Shuffling Technique**"
      ],
      "metadata": {
        "id": "ivPC4nyu2tPa"
      }
    },
    {
      "cell_type": "code",
      "source": [
        "import warnings\n",
        "from sklearn.ensemble import BaggingClassifier\n",
        "from sklearn.linear_model import LogisticRegression\n",
        "\n",
        "algo = LogisticRegression()\n",
        "for rs in range(1,100):\n",
        "  ensembleModel = BaggingClassifier(n_estimators=15, estimator=algo, random_state=rs)\n",
        "  ensembleModel.fit(X_train,y_train)\n",
        "  testScore = ensembleModel.score(X_test,y_test)\n",
        "  trainScore = ensembleModel.score(X_train,y_train)\n",
        "  if testScore > trainScore:\n",
        "    print(f\"Training Score is {trainScore} and Testing Score is {testScore} and rs is {rs}\")"
      ],
      "metadata": {
        "colab": {
          "base_uri": "https://localhost:8080/"
        },
        "id": "Av3Jm3Ig2YLm",
        "outputId": "4356bb6a-044d-44e3-e277-b086a9b9c4ee"
      },
      "execution_count": 9,
      "outputs": [
        {
          "output_type": "stream",
          "name": "stdout",
          "text": [
            "Training Score is 0.846875 and Testing Score is 0.85 and rs is 7\n",
            "Training Score is 0.846875 and Testing Score is 0.85 and rs is 35\n",
            "Training Score is 0.84375 and Testing Score is 0.85 and rs is 36\n",
            "Training Score is 0.846875 and Testing Score is 0.85 and rs is 45\n",
            "Training Score is 0.846875 and Testing Score is 0.85 and rs is 61\n",
            "Training Score is 0.846875 and Testing Score is 0.85 and rs is 64\n",
            "Training Score is 0.840625 and Testing Score is 0.85 and rs is 69\n",
            "Training Score is 0.846875 and Testing Score is 0.85 and rs is 70\n",
            "Training Score is 0.846875 and Testing Score is 0.85 and rs is 99\n"
          ]
        }
      ]
    },
    {
      "cell_type": "code",
      "source": [
        "import warnings\n",
        "from sklearn.ensemble import BaggingClassifier\n",
        "from sklearn.tree import DecisionTreeClassifier\n",
        "\n",
        "algo = DecisionTreeClassifier()\n",
        "for rs in range(1,100):\n",
        "  ensembleModel = BaggingClassifier(n_estimators=15, estimator=algo, random_state=rs)\n",
        "  ensembleModel.fit(X_train,y_train)\n",
        "  testScore = ensembleModel.score(X_test,y_test)\n",
        "  trainScore = ensembleModel.score(X_train,y_train)\n",
        "  if testScore > trainScore:\n",
        "    print(f\"Training Score is {trainScore} and Testing Score is {testScore} and rs is {rs}\")"
      ],
      "metadata": {
        "id": "luMJB9mN3mgr"
      },
      "execution_count": 10,
      "outputs": []
    },
    {
      "cell_type": "code",
      "source": [
        "import warnings\n",
        "from sklearn.ensemble import BaggingClassifier\n",
        "from sklearn.neighbors import KNeighborsClassifier\n",
        "\n",
        "algo = KNeighborsClassifier()\n",
        "for rs in range(1,100):\n",
        "  ensembleModel = BaggingClassifier(n_estimators=15, estimator=algo, random_state=rs)\n",
        "  ensembleModel.fit(X_train,y_train)\n",
        "  testScore = ensembleModel.score(X_test,y_test)\n",
        "  trainScore = ensembleModel.score(X_train,y_train)\n",
        "  if testScore > trainScore:\n",
        "    print(f\"Training Score is {trainScore} and Testing Score is {testScore} and rs is {rs}\")"
      ],
      "metadata": {
        "id": "8HH3d4ZgCpPh",
        "outputId": "1d4d6375-59de-4d56-b69e-fec2d7211fa5",
        "colab": {
          "base_uri": "https://localhost:8080/"
        }
      },
      "execution_count": 11,
      "outputs": [
        {
          "output_type": "stream",
          "name": "stdout",
          "text": [
            "Training Score is 0.884375 and Testing Score is 0.9 and rs is 18\n",
            "Training Score is 0.875 and Testing Score is 0.8875 and rs is 19\n",
            "Training Score is 0.878125 and Testing Score is 0.8875 and rs is 22\n",
            "Training Score is 0.871875 and Testing Score is 0.8875 and rs is 25\n",
            "Training Score is 0.86875 and Testing Score is 0.8875 and rs is 28\n",
            "Training Score is 0.875 and Testing Score is 0.925 and rs is 31\n",
            "Training Score is 0.884375 and Testing Score is 0.8875 and rs is 35\n",
            "Training Score is 0.875 and Testing Score is 0.9 and rs is 39\n",
            "Training Score is 0.871875 and Testing Score is 0.925 and rs is 40\n",
            "Training Score is 0.878125 and Testing Score is 0.8875 and rs is 49\n",
            "Training Score is 0.865625 and Testing Score is 0.875 and rs is 54\n",
            "Training Score is 0.89375 and Testing Score is 0.9 and rs is 56\n",
            "Training Score is 0.871875 and Testing Score is 0.875 and rs is 65\n",
            "Training Score is 0.859375 and Testing Score is 0.8625 and rs is 75\n",
            "Training Score is 0.865625 and Testing Score is 0.8875 and rs is 82\n",
            "Training Score is 0.88125 and Testing Score is 0.9 and rs is 86\n",
            "Training Score is 0.88125 and Testing Score is 0.8875 and rs is 88\n",
            "Training Score is 0.88125 and Testing Score is 0.8875 and rs is 91\n",
            "Training Score is 0.884375 and Testing Score is 0.8875 and rs is 92\n",
            "Training Score is 0.865625 and Testing Score is 0.8875 and rs is 93\n",
            "Training Score is 0.88125 and Testing Score is 0.8875 and rs is 96\n",
            "Training Score is 0.8625 and Testing Score is 0.875 and rs is 98\n"
          ]
        }
      ]
    }
  ]
}