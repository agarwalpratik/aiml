{
  "nbformat": 4,
  "nbformat_minor": 0,
  "metadata": {
    "colab": {
      "provenance": [],
      "include_colab_link": true
    },
    "kernelspec": {
      "name": "python3",
      "display_name": "Python 3"
    },
    "language_info": {
      "name": "python"
    }
  },
  "cells": [
    {
      "cell_type": "markdown",
      "metadata": {
        "id": "view-in-github",
        "colab_type": "text"
      },
      "source": [
        "<a href=\"https://colab.research.google.com/github/agarwalpratik/aiml/blob/main/BaggingExampleImplementationj.ipynb\" target=\"_parent\"><img src=\"https://colab.research.google.com/assets/colab-badge.svg\" alt=\"Open In Colab\"/></a>"
      ]
    },
    {
      "cell_type": "code",
      "execution_count": 1,
      "metadata": {
        "id": "g8LXVmzA1pL6"
      },
      "outputs": [],
      "source": [
        "import pandas as pd\n",
        "import numpy as np"
      ]
    },
    {
      "cell_type": "code",
      "source": [
        "data = pd.read_csv(\"Social_Network_Ads.csv\")"
      ],
      "metadata": {
        "id": "q2VkLLSr1xar"
      },
      "execution_count": 2,
      "outputs": []
    },
    {
      "cell_type": "code",
      "source": [
        "data.info()"
      ],
      "metadata": {
        "colab": {
          "base_uri": "https://localhost:8080/"
        },
        "id": "HX-U_iuM11sA",
        "outputId": "5cc9e4e8-17ce-410b-d285-bb59b26fa823"
      },
      "execution_count": 3,
      "outputs": [
        {
          "output_type": "stream",
          "name": "stdout",
          "text": [
            "<class 'pandas.core.frame.DataFrame'>\n",
            "RangeIndex: 400 entries, 0 to 399\n",
            "Data columns (total 3 columns):\n",
            " #   Column           Non-Null Count  Dtype\n",
            "---  ------           --------------  -----\n",
            " 0   Age              400 non-null    int64\n",
            " 1   EstimatedSalary  400 non-null    int64\n",
            " 2   Purchased        400 non-null    int64\n",
            "dtypes: int64(3)\n",
            "memory usage: 9.5 KB\n"
          ]
        }
      ]
    },
    {
      "cell_type": "code",
      "source": [
        "features = data.iloc[:,[0,1]].values\n",
        "label = data.iloc[:,2].values"
      ],
      "metadata": {
        "id": "OOUX9dQk12qW"
      },
      "execution_count": 4,
      "outputs": []
    },
    {
      "cell_type": "code",
      "source": [
        "from sklearn.model_selection import train_test_split\n",
        "X_train,X_test,y_train,y_test = train_test_split(features,\n",
        "                                                 label,\n",
        "                                                 test_size=0.2,\n",
        "                                                 random_state=3)"
      ],
      "metadata": {
        "id": "zPL2tgIq18rZ"
      },
      "execution_count": 5,
      "outputs": []
    },
    {
      "cell_type": "markdown",
      "source": [
        "# **Bagging with Shuffling Technique**"
      ],
      "metadata": {
        "id": "ivPC4nyu2tPa"
      }
    },
    {
      "cell_type": "code",
      "source": [
        "import warnings\n",
        "from sklearn.ensemble import BaggingClassifier\n",
        "from sklearn.linear_model import LogisticRegression\n",
        "\n",
        "algo = LogisticRegression()\n",
        "for rs in range(1,10):\n",
        "  ensembleModel = BaggingClassifier(n_estimators=15, estimator=algo, random_state=rs)\n",
        "  ensembleModel.fit(X_train,y_train)\n",
        "  print(f\"Training Score is {ensembleModel.score(X_train,y_train)} and Testing Score is {ensembleModel.score(X_test,y_test)}\")"
      ],
      "metadata": {
        "colab": {
          "base_uri": "https://localhost:8080/"
        },
        "id": "Av3Jm3Ig2YLm",
        "outputId": "711c3c39-9c97-4e11-a880-3ec827808b8b"
      },
      "execution_count": 7,
      "outputs": [
        {
          "output_type": "stream",
          "name": "stdout",
          "text": [
            "Training Score is 0.85625 and Testing Score is 0.8375\n",
            "Training Score is 0.85625 and Testing Score is 0.8375\n",
            "Training Score is 0.8625 and Testing Score is 0.8375\n",
            "Training Score is 0.8625 and Testing Score is 0.8375\n",
            "Training Score is 0.85625 and Testing Score is 0.8375\n",
            "Training Score is 0.85625 and Testing Score is 0.8375\n",
            "Training Score is 0.846875 and Testing Score is 0.85\n",
            "Training Score is 0.85625 and Testing Score is 0.8375\n",
            "Training Score is 0.846875 and Testing Score is 0.825\n"
          ]
        }
      ]
    },
    {
      "cell_type": "code",
      "source": [],
      "metadata": {
        "id": "luMJB9mN3mgr"
      },
      "execution_count": null,
      "outputs": []
    }
  ]
}