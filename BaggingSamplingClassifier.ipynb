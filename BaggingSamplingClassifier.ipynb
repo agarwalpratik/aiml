{
  "nbformat": 4,
  "nbformat_minor": 0,
  "metadata": {
    "colab": {
      "provenance": [],
      "include_colab_link": true
    },
    "kernelspec": {
      "name": "python3",
      "display_name": "Python 3"
    },
    "language_info": {
      "name": "python"
    }
  },
  "cells": [
    {
      "cell_type": "markdown",
      "metadata": {
        "id": "view-in-github",
        "colab_type": "text"
      },
      "source": [
        "<a href=\"https://colab.research.google.com/github/agarwalpratik/aiml/blob/main/BaggingSamplingClassifier.ipynb\" target=\"_parent\"><img src=\"https://colab.research.google.com/assets/colab-badge.svg\" alt=\"Open In Colab\"/></a>"
      ]
    },
    {
      "cell_type": "code",
      "execution_count": null,
      "metadata": {
        "id": "g8LXVmzA1pL6"
      },
      "outputs": [],
      "source": [
        "import pandas as pd\n",
        "import numpy as np"
      ]
    },
    {
      "cell_type": "code",
      "source": [
        "data = pd.read_csv(\"Social_Network_Ads.csv\")"
      ],
      "metadata": {
        "id": "q2VkLLSr1xar"
      },
      "execution_count": null,
      "outputs": []
    },
    {
      "cell_type": "code",
      "source": [
        "data.info()"
      ],
      "metadata": {
        "colab": {
          "base_uri": "https://localhost:8080/"
        },
        "id": "HX-U_iuM11sA",
        "outputId": "376c7f3b-6a14-40dc-856e-f119b05416e0"
      },
      "execution_count": null,
      "outputs": [
        {
          "output_type": "stream",
          "name": "stdout",
          "text": [
            "<class 'pandas.core.frame.DataFrame'>\n",
            "RangeIndex: 400 entries, 0 to 399\n",
            "Data columns (total 3 columns):\n",
            " #   Column           Non-Null Count  Dtype\n",
            "---  ------           --------------  -----\n",
            " 0   Age              400 non-null    int64\n",
            " 1   EstimatedSalary  400 non-null    int64\n",
            " 2   Purchased        400 non-null    int64\n",
            "dtypes: int64(3)\n",
            "memory usage: 9.5 KB\n"
          ]
        }
      ]
    },
    {
      "cell_type": "code",
      "source": [
        "features = data.iloc[:,[0,1]].values\n",
        "label = data.iloc[:,2].values"
      ],
      "metadata": {
        "id": "OOUX9dQk12qW"
      },
      "execution_count": null,
      "outputs": []
    },
    {
      "cell_type": "code",
      "source": [
        "from sklearn.model_selection import train_test_split\n",
        "X_train,X_test,y_train,y_test = train_test_split(features,\n",
        "                                                 label,\n",
        "                                                 test_size=0.2,\n",
        "                                                 random_state=3)"
      ],
      "metadata": {
        "id": "zPL2tgIq18rZ"
      },
      "execution_count": null,
      "outputs": []
    },
    {
      "cell_type": "markdown",
      "source": [
        "# **Bagging with Shuffling Technique**"
      ],
      "metadata": {
        "id": "ivPC4nyu2tPa"
      }
    },
    {
      "cell_type": "code",
      "source": [
        "import warnings\n",
        "from sklearn.ensemble import BaggingClassifier\n",
        "from sklearn.linear_model import LogisticRegression\n",
        "\n",
        "algo = LogisticRegression()\n",
        "ensembleModel = BaggingClassifier(n_estimators=15, estimator=algo, random_state=10)\n",
        "ensembleModel.fit(X_train,y_train)\n",
        "print(f\"Training Score is {ensembleModel.score(X_train,y_train)} and Testing Score is {ensembleModel.score(X_test,y_test)}\")"
      ],
      "metadata": {
        "colab": {
          "base_uri": "https://localhost:8080/"
        },
        "id": "Av3Jm3Ig2YLm",
        "outputId": "3025019c-c955-424e-d736-cd3c86d48004"
      },
      "execution_count": null,
      "outputs": [
        {
          "output_type": "stream",
          "name": "stdout",
          "text": [
            "Training Score is 0.85 and Testing Score is 0.8125\n"
          ]
        }
      ]
    },
    {
      "cell_type": "code",
      "source": [
        "len(X_train)"
      ],
      "metadata": {
        "colab": {
          "base_uri": "https://localhost:8080/"
        },
        "id": "luMJB9mN3mgr",
        "outputId": "a95bbc73-3987-456f-ce4a-7b048f67e5fb"
      },
      "execution_count": null,
      "outputs": [
        {
          "output_type": "execute_result",
          "data": {
            "text/plain": [
              "320"
            ]
          },
          "metadata": {},
          "execution_count": 31
        }
      ]
    },
    {
      "cell_type": "markdown",
      "source": [
        "# **Bagging with Sampling Technique**"
      ],
      "metadata": {
        "id": "IO03KOC6Jirs"
      }
    },
    {
      "cell_type": "markdown",
      "source": [
        "# Sampling with Replacement"
      ],
      "metadata": {
        "id": "KlIn-m9nJmGL"
      }
    },
    {
      "cell_type": "code",
      "source": [
        "import warnings\n",
        "from sklearn.ensemble import BaggingClassifier\n",
        "from sklearn.linear_model import LogisticRegression\n",
        "from sklearn.tree import DecisionTreeClassifier\n",
        "from sklearn.neighbors import KNeighborsClassifier\n",
        "\n",
        "sampleSize = int(round(np.sqrt(len(X_train))))\n",
        "\n",
        "for algo in (LogisticRegression(),DecisionTreeClassifier(),KNeighborsClassifier()):\n",
        "  for rs in range(1,100):\n",
        "    ensembleModel = BaggingClassifier(n_estimators=15, estimator=algo, max_samples=sampleSize, bootstrap=True, random_state=rs)\n",
        "    ensembleModel.fit(X_train,y_train)\n",
        "    testScore = ensembleModel.score(X_test,y_test)\n",
        "    trainScore = ensembleModel.score(X_train,y_train)\n",
        "    if testScore > trainScore and testScore > 0.81:\n",
        "      print(f\"Training Score is {trainScore} and Testing Score is {testScore} and rs is {rs} and algo {algo}\")"
      ],
      "metadata": {
        "colab": {
          "base_uri": "https://localhost:8080/"
        },
        "outputId": "b8cac023-c802-4085-ae52-3da4bdb7548e",
        "id": "am4WoRk0Jiry"
      },
      "execution_count": 22,
      "outputs": [
        {
          "output_type": "stream",
          "name": "stdout",
          "text": [
            "Training Score is 0.84375 and Testing Score is 0.85 and rs is 7 and algo LogisticRegression()\n",
            "Training Score is 0.803125 and Testing Score is 0.825 and rs is 13 and algo LogisticRegression()\n",
            "Training Score is 0.871875 and Testing Score is 0.875 and rs is 16 and algo LogisticRegression()\n",
            "Training Score is 0.834375 and Testing Score is 0.8375 and rs is 20 and algo LogisticRegression()\n",
            "Training Score is 0.85625 and Testing Score is 0.8625 and rs is 21 and algo LogisticRegression()\n",
            "Training Score is 0.85 and Testing Score is 0.8625 and rs is 22 and algo LogisticRegression()\n",
            "Training Score is 0.865625 and Testing Score is 0.875 and rs is 26 and algo LogisticRegression()\n",
            "Training Score is 0.828125 and Testing Score is 0.8375 and rs is 31 and algo LogisticRegression()\n",
            "Training Score is 0.865625 and Testing Score is 0.8875 and rs is 35 and algo LogisticRegression()\n",
            "Training Score is 0.834375 and Testing Score is 0.8375 and rs is 38 and algo LogisticRegression()\n",
            "Training Score is 0.8625 and Testing Score is 0.875 and rs is 42 and algo LogisticRegression()\n",
            "Training Score is 0.865625 and Testing Score is 0.875 and rs is 45 and algo LogisticRegression()\n",
            "Training Score is 0.85 and Testing Score is 0.8625 and rs is 46 and algo LogisticRegression()\n",
            "Training Score is 0.871875 and Testing Score is 0.875 and rs is 50 and algo LogisticRegression()\n",
            "Training Score is 0.83125 and Testing Score is 0.8375 and rs is 51 and algo LogisticRegression()\n",
            "Training Score is 0.84375 and Testing Score is 0.85 and rs is 57 and algo LogisticRegression()\n",
            "Training Score is 0.828125 and Testing Score is 0.8375 and rs is 60 and algo LogisticRegression()\n",
            "Training Score is 0.825 and Testing Score is 0.8375 and rs is 88 and algo LogisticRegression()\n",
            "Training Score is 0.865625 and Testing Score is 0.875 and rs is 96 and algo LogisticRegression()\n",
            "Training Score is 0.903125 and Testing Score is 0.9125 and rs is 2 and algo DecisionTreeClassifier()\n",
            "Training Score is 0.896875 and Testing Score is 0.9125 and rs is 29 and algo DecisionTreeClassifier()\n",
            "Training Score is 0.909375 and Testing Score is 0.9125 and rs is 44 and algo DecisionTreeClassifier()\n",
            "Training Score is 0.90625 and Testing Score is 0.925 and rs is 79 and algo DecisionTreeClassifier()\n",
            "Training Score is 0.903125 and Testing Score is 0.9125 and rs is 86 and algo DecisionTreeClassifier()\n",
            "Training Score is 0.775 and Testing Score is 0.8125 and rs is 37 and algo KNeighborsClassifier()\n",
            "Training Score is 0.740625 and Testing Score is 0.825 and rs is 45 and algo KNeighborsClassifier()\n",
            "Training Score is 0.775 and Testing Score is 0.8125 and rs is 55 and algo KNeighborsClassifier()\n",
            "Training Score is 0.796875 and Testing Score is 0.8125 and rs is 77 and algo KNeighborsClassifier()\n"
          ]
        }
      ]
    },
    {
      "cell_type": "markdown",
      "source": [
        "# Sampling without Replacement"
      ],
      "metadata": {
        "id": "gG-ho-E3KPQl"
      }
    },
    {
      "cell_type": "code",
      "source": [
        "import warnings\n",
        "from sklearn.ensemble import BaggingClassifier\n",
        "from sklearn.linear_model import LogisticRegression\n",
        "\n",
        "sampleSize = int(round(np.sqrt(len(X_train))))\n",
        "\n",
        "for algo in (LogisticRegression(),DecisionTreeClassifier(),KNeighborsClassifier()):\n",
        "  for rs in range(1,100):\n",
        "    ensembleModel = BaggingClassifier(n_estimators=15, estimator=algo, max_samples=sampleSize, bootstrap=False, random_state=rs)\n",
        "    ensembleModel.fit(X_train,y_train)\n",
        "    testScore = ensembleModel.score(X_test,y_test)\n",
        "    trainScore = ensembleModel.score(X_train,y_train)\n",
        "    if testScore > trainScore  and testScore > 0.81:\n",
        "      print(f\"Training Score is {trainScore} and Testing Score is {testScore} and rs is {rs} and algo {algo}\")"
      ],
      "metadata": {
        "colab": {
          "base_uri": "https://localhost:8080/"
        },
        "outputId": "29f436c9-06b9-4cb4-de5e-0e86303ba704",
        "id": "NDMVF1aSKPQu"
      },
      "execution_count": 23,
      "outputs": [
        {
          "output_type": "stream",
          "name": "stdout",
          "text": [
            "Training Score is 0.846875 and Testing Score is 0.85 and rs is 4 and algo LogisticRegression()\n",
            "Training Score is 0.84375 and Testing Score is 0.85 and rs is 8 and algo LogisticRegression()\n",
            "Training Score is 0.825 and Testing Score is 0.8375 and rs is 10 and algo LogisticRegression()\n",
            "Training Score is 0.83125 and Testing Score is 0.8375 and rs is 13 and algo LogisticRegression()\n",
            "Training Score is 0.846875 and Testing Score is 0.85 and rs is 19 and algo LogisticRegression()\n",
            "Training Score is 0.8625 and Testing Score is 0.875 and rs is 32 and algo LogisticRegression()\n",
            "Training Score is 0.8375 and Testing Score is 0.85 and rs is 63 and algo LogisticRegression()\n",
            "Training Score is 0.846875 and Testing Score is 0.85 and rs is 68 and algo LogisticRegression()\n",
            "Training Score is 0.834375 and Testing Score is 0.8375 and rs is 69 and algo LogisticRegression()\n",
            "Training Score is 0.828125 and Testing Score is 0.85 and rs is 71 and algo LogisticRegression()\n",
            "Training Score is 0.83125 and Testing Score is 0.8375 and rs is 83 and algo LogisticRegression()\n",
            "Training Score is 0.828125 and Testing Score is 0.8375 and rs is 84 and algo LogisticRegression()\n",
            "Training Score is 0.853125 and Testing Score is 0.875 and rs is 93 and algo LogisticRegression()\n",
            "Training Score is 0.896875 and Testing Score is 0.9 and rs is 3 and algo DecisionTreeClassifier()\n",
            "Training Score is 0.890625 and Testing Score is 0.9 and rs is 21 and algo DecisionTreeClassifier()\n",
            "Training Score is 0.884375 and Testing Score is 0.8875 and rs is 25 and algo DecisionTreeClassifier()\n",
            "Training Score is 0.775 and Testing Score is 0.8125 and rs is 88 and algo KNeighborsClassifier()\n"
          ]
        }
      ]
    },
    {
      "cell_type": "code",
      "source": [
        "#===========================================================\n",
        "# Sampling with Replacement\n",
        "#===========================================================\n",
        "\n",
        "data = np.array([1,2,3,4,5,6])\n",
        "\n",
        "#Sample of 3 records\n",
        "sample = np.random.choice(data,10)\n",
        "print(sample)"
      ],
      "metadata": {
        "colab": {
          "base_uri": "https://localhost:8080/"
        },
        "id": "AP-_EJN6LZt2",
        "outputId": "8b729205-2ae8-4772-f455-6905272ea8c3"
      },
      "execution_count": null,
      "outputs": [
        {
          "output_type": "stream",
          "name": "stdout",
          "text": [
            "[2 6 3 6 6 3 2 2 5 2]\n"
          ]
        }
      ]
    },
    {
      "cell_type": "code",
      "source": [
        "#===========================================================\n",
        "# Sampling without Replacement\n",
        "#===========================================================\n",
        "\n",
        "data = np.array([1,2,3,4,5,6])\n",
        "\n",
        "#Sample of 3 records\n",
        "sample = np.random.choice(data,6, replace=False)\n",
        "print(sample)"
      ],
      "metadata": {
        "colab": {
          "base_uri": "https://localhost:8080/"
        },
        "id": "XFqvFufyLogg",
        "outputId": "ddef41c8-1d7b-4a06-b50e-f11dd730060d"
      },
      "execution_count": 12,
      "outputs": [
        {
          "output_type": "stream",
          "name": "stdout",
          "text": [
            "[4 2 5 3 1 6]\n"
          ]
        }
      ]
    },
    {
      "cell_type": "code",
      "source": [],
      "metadata": {
        "id": "vI4Kx2R-L7gA"
      },
      "execution_count": null,
      "outputs": []
    }
  ]
}